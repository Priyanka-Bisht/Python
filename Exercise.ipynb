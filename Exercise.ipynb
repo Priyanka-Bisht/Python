{
 "cells": [
  {
   "cell_type": "markdown",
   "id": "2d755a72",
   "metadata": {},
   "source": [
    "Exercise 1: Print First 10 natural numbers using while loop"
   ]
  },
  {
   "cell_type": "code",
   "execution_count": 5,
   "id": "8b89438c",
   "metadata": {},
   "outputs": [
    {
     "name": "stdout",
     "output_type": "stream",
     "text": [
      "1\n",
      "2\n",
      "3\n",
      "4\n",
      "5\n",
      "6\n",
      "7\n",
      "8\n",
      "9\n",
      "10\n"
     ]
    }
   ],
   "source": [
    "i=1\n",
    "while i < 11:\n",
    "    print(i)\n",
    "    i = i+1"
   ]
  },
  {
   "cell_type": "markdown",
   "id": "f21bf76c",
   "metadata": {},
   "source": [
    "Exercise 2: Print the following pattern"
   ]
  },
  {
   "cell_type": "code",
   "execution_count": 28,
   "id": "c9928fc1",
   "metadata": {},
   "outputs": [
    {
     "name": "stdout",
     "output_type": "stream",
     "text": [
      "1\n",
      "12\n",
      "123\n",
      "1234\n",
      "12345\n"
     ]
    }
   ],
   "source": [
    "for i in range(1,6):\n",
    "    for j in range(1,i+1):\n",
    "        print(j,end=\"\")\n",
    "    print(\"\")"
   ]
  },
  {
   "cell_type": "markdown",
   "id": "a86aba26",
   "metadata": {},
   "source": [
    "Exercise 3: Calculate the sum of all numbers from 1 to a given number"
   ]
  },
  {
   "cell_type": "code",
   "execution_count": 41,
   "id": "37886099",
   "metadata": {},
   "outputs": [
    {
     "name": "stdout",
     "output_type": "stream",
     "text": [
      "Enter a no\n",
      ": 5\n",
      "sum is 15\n"
     ]
    }
   ],
   "source": [
    "s=0\n",
    "a=int(input(\"Enter a no\\n: \"))\n",
    "for i in range(a+1):\n",
    "    s+=i\n",
    "print(\"sum is\", s)"
   ]
  },
  {
   "cell_type": "code",
   "execution_count": 42,
   "id": "d9aede9d",
   "metadata": {},
   "outputs": [
    {
     "name": "stdout",
     "output_type": "stream",
     "text": [
      "Enter number 5\n",
      "Sum is: 15\n"
     ]
    }
   ],
   "source": [
    "n = int(input(\"Enter number \"))\n",
    "# pass range of numbers to sum() function\n",
    "x = sum(range(1, n + 1))\n",
    "print('Sum is:', x)"
   ]
  },
  {
   "cell_type": "markdown",
   "id": "e72d92c4",
   "metadata": {},
   "source": [
    "Exercise 4: Write a program to print multiplication table of a given number"
   ]
  },
  {
   "cell_type": "code",
   "execution_count": 47,
   "id": "6d9bbc83",
   "metadata": {},
   "outputs": [
    {
     "name": "stdout",
     "output_type": "stream",
     "text": [
      "2\n",
      "4\n",
      "6\n",
      "8\n",
      "10\n",
      "12\n",
      "14\n",
      "16\n",
      "18\n",
      "20\n"
     ]
    }
   ],
   "source": [
    "n=2\n",
    "for i in range(1,11,1):\n",
    "    product=n*i\n",
    "    print(product)"
   ]
  },
  {
   "cell_type": "markdown",
   "id": "459bf1c0",
   "metadata": {},
   "source": [
    "Exercise 5: Display numbers from a list using loop"
   ]
  },
  {
   "cell_type": "code",
   "execution_count": 53,
   "id": "866f1ec6",
   "metadata": {},
   "outputs": [
    {
     "ename": "SyntaxError",
     "evalue": "invalid syntax (<ipython-input-53-af6cc92d03d7>, line 6)",
     "output_type": "error",
     "traceback": [
      "\u001b[1;36m  File \u001b[1;32m\"<ipython-input-53-af6cc92d03d7>\"\u001b[1;36m, line \u001b[1;32m6\u001b[0m\n\u001b[1;33m    else n % 5 == 0:\u001b[0m\n\u001b[1;37m         ^\u001b[0m\n\u001b[1;31mSyntaxError\u001b[0m\u001b[1;31m:\u001b[0m invalid syntax\n"
     ]
    }
   ],
   "source": [
    "n = [12, 75, 150, 180, 145, 525, 50]\n",
    "if n % 5 == 0:\n",
    "    break\n",
    "elif n>150:\n",
    "    continue\n",
    "else n % 5 == 0:\n",
    "    print(n)"
   ]
  },
  {
   "cell_type": "code",
   "execution_count": 56,
   "id": "32afb801",
   "metadata": {},
   "outputs": [
    {
     "name": "stdout",
     "output_type": "stream",
     "text": [
      "75\n",
      "150\n",
      "145\n"
     ]
    }
   ],
   "source": [
    "numbers = [12, 75, 150, 180, 145, 525, 50]\n",
    "for n in numbers:\n",
    "    if n>500:\n",
    "        break\n",
    "    elif n>150:\n",
    "        continue   \n",
    "    elif n % 5 == 0:\n",
    "        print(n)"
   ]
  },
  {
   "cell_type": "markdown",
   "id": "71ead974",
   "metadata": {},
   "source": [
    "Exercise 6: Count the total number of digits in a number"
   ]
  },
  {
   "cell_type": "code",
   "execution_count": 1,
   "id": "279987ac",
   "metadata": {},
   "outputs": [
    {
     "name": "stdout",
     "output_type": "stream",
     "text": [
      "Total digits are: 5\n"
     ]
    }
   ],
   "source": [
    "num = 75869\n",
    "count = 0\n",
    "while num != 0:\n",
    "    # floor division\n",
    "    # to reduce the last digit from number\n",
    "    num = num // 10\n",
    "\n",
    "    # increment counter by 1\n",
    "    count = count + 1\n",
    "print(\"Total digits are:\", count)"
   ]
  },
  {
   "cell_type": "code",
   "execution_count": 2,
   "id": "78651e5e",
   "metadata": {},
   "outputs": [
    {
     "data": {
      "text/plain": [
       "8523"
      ]
     },
     "execution_count": 2,
     "metadata": {},
     "output_type": "execute_result"
    }
   ],
   "source": [
    "n=85236\n",
    "n=n//10\n",
    "n"
   ]
  },
  {
   "cell_type": "code",
   "execution_count": null,
   "id": "8ac368ab",
   "metadata": {},
   "outputs": [],
   "source": [
    "c=0\n",
    "c+=1\n",
    "c"
   ]
  },
  {
   "cell_type": "code",
   "execution_count": 1,
   "id": "d27f1c71",
   "metadata": {},
   "outputs": [
    {
     "name": "stdout",
     "output_type": "stream",
     "text": [
      "Total digits are: 5\n"
     ]
    }
   ],
   "source": [
    "num = 75869\n",
    "count = 0\n",
    "while num != 0:\n",
    "    # floor division\n",
    "    # to reduce the last digit from number\n",
    "    \n",
    "    num=num//10\n",
    "    # increment counter by 1\n",
    "    count = count + 1\n",
    "print(\"Total digits are:\", count)"
   ]
  },
  {
   "cell_type": "markdown",
   "id": "198947d2",
   "metadata": {},
   "source": [
    "Exercise 7: Print the following pattern"
   ]
  },
  {
   "cell_type": "code",
   "execution_count": 22,
   "id": "94fa4383",
   "metadata": {},
   "outputs": [
    {
     "name": "stdout",
     "output_type": "stream",
     "text": [
      "5 4 3 2 1 \n",
      "4 3 2 1 \n",
      "3 2 1 \n",
      "2 1 \n",
      "1 \n"
     ]
    }
   ],
   "source": [
    "for i in range(5):\n",
    "    for j in range(5-i,0,-1):\n",
    "        print(j,end=\" \")\n",
    "    print()"
   ]
  },
  {
   "cell_type": "markdown",
   "id": "b40a15b1",
   "metadata": {},
   "source": [
    "Exercise 8: Print list in reverse order using a loop"
   ]
  },
  {
   "cell_type": "code",
   "execution_count": 28,
   "id": "bd8d4a9d",
   "metadata": {},
   "outputs": [
    {
     "name": "stdout",
     "output_type": "stream",
     "text": [
      "50\n",
      "40\n",
      "30\n",
      "20\n",
      "10\n"
     ]
    }
   ],
   "source": [
    "list1 = [10, 20, 30, 40, 50]\n",
    "new_list=reversed(list1)\n",
    "for i in new_list:\n",
    "    \n",
    "    \n",
    "    print(i)"
   ]
  },
  {
   "cell_type": "markdown",
   "id": "536c86c9",
   "metadata": {},
   "source": [
    "Exercise 9: Display numbers from -10 to -1 using for loop"
   ]
  },
  {
   "cell_type": "code",
   "execution_count": 34,
   "id": "60a75114",
   "metadata": {},
   "outputs": [
    {
     "name": "stdout",
     "output_type": "stream",
     "text": [
      "-10\n",
      "-9\n",
      "-8\n",
      "-7\n",
      "-6\n",
      "-5\n",
      "-4\n",
      "-3\n",
      "-2\n",
      "-1\n"
     ]
    }
   ],
   "source": [
    "for i in range(-10,0):\n",
    "    print(i)"
   ]
  },
  {
   "cell_type": "markdown",
   "id": "ca463c38",
   "metadata": {},
   "source": [
    "Exercise 10: Use else block to display a message “Done” after successful execution of for loop"
   ]
  },
  {
   "cell_type": "code",
   "execution_count": 37,
   "id": "76eafbe4",
   "metadata": {},
   "outputs": [
    {
     "name": "stdout",
     "output_type": "stream",
     "text": [
      "0\n",
      "1\n",
      "2\n",
      "3\n",
      "4\n",
      "Done!\n"
     ]
    }
   ],
   "source": [
    "for i in range(5):\n",
    "    print(i)\n",
    "else:\n",
    "    print(\"Done!\")"
   ]
  },
  {
   "cell_type": "markdown",
   "id": "1ec2c6bf",
   "metadata": {},
   "source": [
    "Exercise 11: Write a program to display all prime numbers within a range"
   ]
  },
  {
   "cell_type": "code",
   "execution_count": 45,
   "id": "cc4c428e",
   "metadata": {},
   "outputs": [
    {
     "name": "stdout",
     "output_type": "stream",
     "text": [
      "29\n",
      "31\n",
      "37\n",
      "41\n",
      "43\n",
      "47\n"
     ]
    }
   ],
   "source": [
    "start=25\n",
    "end=50\n",
    "for i in range(start,end+1):\n",
    "    if i > 1:\n",
    "        for j in range(2,i):\n",
    "            if (i%j)==0:\n",
    "                break\n",
    "        else:\n",
    "            print(i)"
   ]
  },
  {
   "cell_type": "code",
   "execution_count": 50,
   "id": "09298e61",
   "metadata": {},
   "outputs": [
    {
     "name": "stdout",
     "output_type": "stream",
     "text": [
      "29\n",
      "31\n",
      "37\n",
      "41\n",
      "43\n",
      "47\n"
     ]
    }
   ],
   "source": [
    "s=25\n",
    "e=50\n",
    "for i in range(s,e):\n",
    "    for j in range(2,i):\n",
    "        if i%j == 0:\n",
    "            break\n",
    "    else:\n",
    "        print(i)"
   ]
  },
  {
   "cell_type": "markdown",
   "id": "fa6cf4a9",
   "metadata": {},
   "source": [
    "Exercise 12: Display Fibonacci series up to 10 terms"
   ]
  },
  {
   "cell_type": "code",
   "execution_count": 59,
   "id": "3dab9491",
   "metadata": {},
   "outputs": [
    {
     "name": "stdout",
     "output_type": "stream",
     "text": [
      "0\n",
      "1\n",
      "1\n",
      "2\n",
      "3\n",
      "5\n",
      "8\n",
      "13\n",
      "21\n",
      "34\n"
     ]
    }
   ],
   "source": [
    "c=0\n",
    "d=1\n",
    "for i in range(0,10):\n",
    "    print(c)\n",
    "    e=c+d\n",
    "    c=d \n",
    "    d=e \n",
    "    "
   ]
  },
  {
   "cell_type": "markdown",
   "id": "809382e8",
   "metadata": {},
   "source": [
    "Exercise 13: Find the factorial of a given number"
   ]
  },
  {
   "cell_type": "code",
   "execution_count": 73,
   "id": "5a6dc5c3",
   "metadata": {},
   "outputs": [
    {
     "name": "stdout",
     "output_type": "stream",
     "text": [
      "1\n",
      "2\n",
      "6\n",
      "24\n",
      "120\n"
     ]
    }
   ],
   "source": [
    "fac=1\n",
    "for i in range(1,5+1):\n",
    "    fac=fac*i\n",
    "    print(fac)"
   ]
  },
  {
   "cell_type": "code",
   "execution_count": 74,
   "id": "2de99562",
   "metadata": {},
   "outputs": [
    {
     "name": "stdout",
     "output_type": "stream",
     "text": [
      "The factorial of 5 is 120\n"
     ]
    }
   ],
   "source": [
    "num = 5\n",
    "factorial = 1\n",
    "if num < 0:\n",
    "    print(\"Factorial does not exist for negative numbers\")\n",
    "elif num == 0:\n",
    "    print(\"The factorial of 0 is 1\")\n",
    "else:\n",
    "    # run loop 5 times\n",
    "    for i in range(1, num + 1):\n",
    "        # multiply factorial by current number\n",
    "        factorial = factorial * i\n",
    "    print(\"The factorial of\", num, \"is\", factorial)\n"
   ]
  },
  {
   "cell_type": "markdown",
   "id": "39a6afb9",
   "metadata": {},
   "source": [
    "Exercise 14: Reverse a given integer number"
   ]
  },
  {
   "cell_type": "code",
   "execution_count": 78,
   "id": "1503f20a",
   "metadata": {},
   "outputs": [
    {
     "name": "stdout",
     "output_type": "stream",
     "text": [
      "2587"
     ]
    }
   ],
   "source": [
    "n=7852\n",
    "while n>0:\n",
    "    count=n%10\n",
    "    n = n//10\n",
    "    print(count,end=\"\")"
   ]
  },
  {
   "cell_type": "markdown",
   "id": "d2b9dc80",
   "metadata": {},
   "source": [
    "Exercise 15: Use a loop to display elements from a given list present at odd index positions"
   ]
  },
  {
   "cell_type": "code",
   "execution_count": 14,
   "id": "ed92808d",
   "metadata": {},
   "outputs": [
    {
     "name": "stdout",
     "output_type": "stream",
     "text": [
      "20\n",
      "40\n",
      "60\n",
      "80\n",
      "100\n"
     ]
    }
   ],
   "source": [
    "my_list = [10, 20, 30, 40, 50, 60, 70, 80, 90, 100]\n",
    "for i in my_list[1::2]:\n",
    "    print(i)\n",
    "    \n",
    "        "
   ]
  },
  {
   "cell_type": "code",
   "execution_count": 7,
   "id": "9a41b5ee",
   "metadata": {},
   "outputs": [
    {
     "name": "stdout",
     "output_type": "stream",
     "text": [
      "['even', 'odd', 'even', 'odd', 'even', 'odd', 'even', 'odd', 'even', 'odd']\n"
     ]
    }
   ],
   "source": [
    "l=[]\n",
    "for i in range(10):\n",
    "    if i % 2 != 0:\n",
    "        l.append(\"odd\")\n",
    "    else :\n",
    "        l.append(\"even\")\n",
    "print(l)"
   ]
  },
  {
   "cell_type": "code",
   "execution_count": 33,
   "id": "52faf4f8",
   "metadata": {},
   "outputs": [
    {
     "name": "stdout",
     "output_type": "stream",
     "text": [
      "20\n",
      "40\n",
      "60\n",
      "80\n",
      "100\n"
     ]
    }
   ],
   "source": [
    "m=[10,20,30,40,50,60,70,80,90,100]\n",
    "for i in range(len(m)):\n",
    "    if i % 2 != 0:\n",
    "        print(m[i])\n",
    "        "
   ]
  },
  {
   "cell_type": "code",
   "execution_count": 36,
   "id": "9d106fed",
   "metadata": {},
   "outputs": [
    {
     "name": "stdout",
     "output_type": "stream",
     "text": [
      "current no is: 1 and the cube is:  1\n",
      "current no is: 2 and the cube is:  8\n",
      "current no is: 3 and the cube is:  27\n",
      "current no is: 4 and the cube is:  64\n",
      "current no is: 5 and the cube is:  125\n",
      "current no is: 6 and the cube is:  216\n"
     ]
    }
   ],
   "source": [
    "n=6\n",
    "for i in range(1,n+1):\n",
    "    j = i*i*i\n",
    "    print(\"current no is:\", i, \"and the cube is: \",j)"
   ]
  },
  {
   "cell_type": "markdown",
   "id": "a6fd5ed1",
   "metadata": {},
   "source": [
    "Exercise 17: Find the sum of the series upto n terms"
   ]
  },
  {
   "cell_type": "code",
   "execution_count": 1,
   "id": "1da46d3e",
   "metadata": {},
   "outputs": [
    {
     "name": "stdout",
     "output_type": "stream",
     "text": [
      "2+22+222+2222+22222+\n",
      "Sum of above series is: 24690\n"
     ]
    }
   ],
   "source": [
    "n = 5\n",
    "# first number of sequence\n",
    "start = 2\n",
    "sum_seq = 0\n",
    "\n",
    "# run loop n times\n",
    "for i in range(0, n):\n",
    "    print(start, end=\"+\")\n",
    "    sum_seq += start\n",
    "    # calculate the next term\n",
    "    start = start * 10 + 2\n",
    "print(\"\\nSum of above series is:\", sum_seq)"
   ]
  },
  {
   "cell_type": "code",
   "execution_count": 8,
   "id": "7d3d2639",
   "metadata": {},
   "outputs": [
    {
     "name": "stdout",
     "output_type": "stream",
     "text": [
      "2+22+222+2222+22222+sum of the above series is: 24690\n"
     ]
    }
   ],
   "source": [
    "start=2\n",
    "suml = 0\n",
    "for i in range(5):\n",
    "    print(start,end=\"+\")\n",
    "    suml=suml+start\n",
    "    start=start*10+2\n",
    "print(\"sum of the above series is:\", suml)"
   ]
  },
  {
   "cell_type": "markdown",
   "id": "01ecc546",
   "metadata": {},
   "source": [
    "Exercise 18: Print the following pattern"
   ]
  },
  {
   "cell_type": "code",
   "execution_count": 12,
   "id": "33f207e2",
   "metadata": {},
   "outputs": [
    {
     "name": "stdout",
     "output_type": "stream",
     "text": [
      "\n",
      "* \n",
      "* * \n",
      "* * * \n",
      "* * * * \n",
      "* * * * * \n",
      "* * * * \n",
      "* * * \n",
      "* * \n",
      "* \n",
      "\n"
     ]
    }
   ],
   "source": [
    "for i in range(5+1):\n",
    "    for j in range(i):\n",
    "        print(\"*\",end=\" \")\n",
    "    print()\n",
    "for i in range(5):\n",
    "    for j in range(i+1,5):\n",
    "        print(\"*\",end=\" \")\n",
    "    print()"
   ]
  },
  {
   "cell_type": "markdown",
   "id": "bedaac1d",
   "metadata": {},
   "source": [
    "Exercise 1: Create a function in Python"
   ]
  },
  {
   "cell_type": "code",
   "execution_count": 1,
   "id": "a9f3a2d1",
   "metadata": {},
   "outputs": [],
   "source": [
    "def test1(name,age):\n",
    "    return(name,age)"
   ]
  },
  {
   "cell_type": "code",
   "execution_count": 4,
   "id": "c5b4c4c6",
   "metadata": {},
   "outputs": [
    {
     "data": {
      "text/plain": [
       "(23, 'priyanka')"
      ]
     },
     "execution_count": 4,
     "metadata": {},
     "output_type": "execute_result"
    }
   ],
   "source": [
    "test1(23,\"priyanka\")"
   ]
  },
  {
   "cell_type": "markdown",
   "id": "837326e7",
   "metadata": {},
   "source": [
    "Exercise 2: Create a function with variable length of arguments"
   ]
  },
  {
   "cell_type": "code",
   "execution_count": 10,
   "id": "cf142459",
   "metadata": {},
   "outputs": [],
   "source": [
    "def func1(*args):\n",
    "    for i in args:\n",
    "        print(i)"
   ]
  },
  {
   "cell_type": "code",
   "execution_count": 11,
   "id": "01380863",
   "metadata": {},
   "outputs": [
    {
     "name": "stdout",
     "output_type": "stream",
     "text": [
      "[20, 30, 50, 40]\n",
      "[80, 100]\n"
     ]
    }
   ],
   "source": [
    "func1([20,30,50,40],[80,100])"
   ]
  },
  {
   "cell_type": "markdown",
   "id": "466f78d4",
   "metadata": {},
   "source": [
    "Exercise 3: Return multiple values from a function"
   ]
  },
  {
   "cell_type": "code",
   "execution_count": 17,
   "id": "a296c62a",
   "metadata": {},
   "outputs": [
    {
     "data": {
      "text/plain": [
       "(60, 20)"
      ]
     },
     "execution_count": 17,
     "metadata": {},
     "output_type": "execute_result"
    }
   ],
   "source": [
    "def calculation(a,b):\n",
    "    return a+b, a-b\n",
    "res=calculation(40,20)\n",
    "res"
   ]
  },
  {
   "cell_type": "markdown",
   "id": "4286f378",
   "metadata": {},
   "source": [
    "Exercise 4: Create a function with default argument"
   ]
  },
  {
   "cell_type": "code",
   "execution_count": 21,
   "id": "c3b8c974",
   "metadata": {},
   "outputs": [
    {
     "data": {
      "text/plain": [
       "('denial', 9000)"
      ]
     },
     "execution_count": 21,
     "metadata": {},
     "output_type": "execute_result"
    }
   ],
   "source": [
    "\n",
    "def show_employee(name,salary=9000):\n",
    "\n",
    "    return(name,salary)\n",
    "show_employee(\"kelly\",12000)\n",
    "show_employee(\"denial\")\n",
    "    "
   ]
  },
  {
   "cell_type": "markdown",
   "id": "6805e488",
   "metadata": {},
   "source": [
    "Exercise 5: Create an inner function to calculate the addition in the following way"
   ]
  },
  {
   "cell_type": "code",
   "execution_count": 36,
   "id": "bbd89306",
   "metadata": {},
   "outputs": [],
   "source": [
    "def func2(a,b):\n",
    "    def func3(a,b):\n",
    "        print(a+b)\n",
    "    c=a+b\n",
    "    return c+5"
   ]
  },
  {
   "cell_type": "code",
   "execution_count": 37,
   "id": "14290897",
   "metadata": {},
   "outputs": [
    {
     "data": {
      "text/plain": [
       "11"
      ]
     },
     "execution_count": 37,
     "metadata": {},
     "output_type": "execute_result"
    }
   ],
   "source": [
    "func2(4,2)"
   ]
  },
  {
   "cell_type": "markdown",
   "id": "83971f47",
   "metadata": {},
   "source": [
    "Exercise 6: Create a recursive function"
   ]
  },
  {
   "cell_type": "code",
   "execution_count": 38,
   "id": "f7a72d07",
   "metadata": {},
   "outputs": [
    {
     "name": "stdout",
     "output_type": "stream",
     "text": [
      "55\n"
     ]
    }
   ],
   "source": [
    "def addition(num):\n",
    "    if num:\n",
    "        # call same function by reducing number by 1\n",
    "        return num + addition(num - 1)\n",
    "    else:\n",
    "        return 0\n",
    "\n",
    "res = addition(10)\n",
    "print(res)"
   ]
  },
  {
   "cell_type": "code",
   "execution_count": 58,
   "id": "8b076508",
   "metadata": {},
   "outputs": [],
   "source": [
    "def recur(no):\n",
    "    if no:\n",
    "        return no + recur(no-1)\n",
    "    else:\n",
    "        return 0\n",
    "    \n"
   ]
  },
  {
   "cell_type": "code",
   "execution_count": 59,
   "id": "d7c7c50a",
   "metadata": {},
   "outputs": [
    {
     "data": {
      "text/plain": [
       "55"
      ]
     },
     "execution_count": 59,
     "metadata": {},
     "output_type": "execute_result"
    }
   ],
   "source": [
    "recur(10)"
   ]
  },
  {
   "cell_type": "markdown",
   "id": "eabed480",
   "metadata": {},
   "source": [
    "Exercise 7: Assign a different name to function and call it through the new name"
   ]
  },
  {
   "cell_type": "code",
   "execution_count": 72,
   "id": "c7685924",
   "metadata": {},
   "outputs": [],
   "source": [
    "def display_student(name, age):\n",
    "    \n",
    "    print(name, age)\n",
    "  \n"
   ]
  },
  {
   "cell_type": "code",
   "execution_count": 73,
   "id": "812c6c83",
   "metadata": {},
   "outputs": [
    {
     "name": "stdout",
     "output_type": "stream",
     "text": [
      "pink 22\n",
      "pink 22\n"
     ]
    }
   ],
   "source": [
    "display_student(\"pink\",22)\n",
    "show_student = display_student\n",
    "show_student(\"pink\",22)"
   ]
  },
  {
   "cell_type": "markdown",
   "id": "5cedc075",
   "metadata": {},
   "source": [
    "Exercise 8: Generate a Python list of all the even numbers between 4 to 30"
   ]
  },
  {
   "cell_type": "code",
   "execution_count": 81,
   "id": "f9d30f1c",
   "metadata": {},
   "outputs": [
    {
     "data": {
      "text/plain": [
       "[4, 6, 8, 10, 12, 14, 16, 18, 20, 22, 24, 26, 28]"
      ]
     },
     "execution_count": 81,
     "metadata": {},
     "output_type": "execute_result"
    }
   ],
   "source": [
    "list(range(4,30,2))"
   ]
  },
  {
   "cell_type": "markdown",
   "id": "e9e9801a",
   "metadata": {},
   "source": [
    "Exercise 9: Find the largest item from a given list"
   ]
  },
  {
   "cell_type": "code",
   "execution_count": 89,
   "id": "0629014a",
   "metadata": {},
   "outputs": [
    {
     "data": {
      "text/plain": [
       "24"
      ]
     },
     "execution_count": 89,
     "metadata": {},
     "output_type": "execute_result"
    }
   ],
   "source": [
    "x = [4, 6, 8, 24, 12, 2]\n",
    "max(x)"
   ]
  },
  {
   "cell_type": "markdown",
   "id": "083ca90e",
   "metadata": {},
   "source": [
    "Exercise 1A: Create a string made of the first, middle and last character"
   ]
  },
  {
   "cell_type": "code",
   "execution_count": 92,
   "id": "aac51f17",
   "metadata": {},
   "outputs": [
    {
     "data": {
      "text/plain": [
       "'vvk'"
      ]
     },
     "execution_count": 92,
     "metadata": {},
     "output_type": "execute_result"
    }
   ],
   "source": [
    "p=\"vivek\"\n",
    "p[::2]"
   ]
  },
  {
   "cell_type": "markdown",
   "id": "801cd771",
   "metadata": {},
   "source": [
    "Exercise 1B: Create a string made of the middle three characters"
   ]
  },
  {
   "cell_type": "code",
   "execution_count": 95,
   "id": "6825e096",
   "metadata": {},
   "outputs": [
    {
     "data": {
      "text/plain": [
       "'Dip'"
      ]
     },
     "execution_count": 95,
     "metadata": {},
     "output_type": "execute_result"
    }
   ],
   "source": [
    "str1 = \"JhonDipPeta\"\n",
    "str1[4:7]"
   ]
  },
  {
   "cell_type": "code",
   "execution_count": 96,
   "id": "a0bdb40f",
   "metadata": {},
   "outputs": [
    {
     "name": "stdout",
     "output_type": "stream",
     "text": [
      "Original String is JhonDipPeta\n",
      "Middle three chars are: Dip\n",
      "Original String is JaSonAy\n",
      "Middle three chars are: Son\n"
     ]
    }
   ],
   "source": [
    "def get_middle_three_chars(str1):\n",
    "    print(\"Original String is\", str1)\n",
    "\n",
    "    # first get middle index number\n",
    "    mi = int(len(str1) / 2)\n",
    "\n",
    "    # use string slicing to get result characters\n",
    "    res = str1[mi - 1:mi + 2]\n",
    "    print(\"Middle three chars are:\", res)\n",
    "\n",
    "get_middle_three_chars(\"JhonDipPeta\")\n",
    "get_middle_three_chars(\"JaSonAy\")"
   ]
  },
  {
   "cell_type": "markdown",
   "id": "da999fe1",
   "metadata": {},
   "source": [
    "Exercise 2: Append new string in the middle of a given string"
   ]
  },
  {
   "cell_type": "code",
   "execution_count": 113,
   "id": "a7f899c0",
   "metadata": {},
   "outputs": [
    {
     "name": "stdout",
     "output_type": "stream",
     "text": [
      "Original Strings are Ault Kelly\n",
      "After appending new string in middle: AuKellylt\n"
     ]
    }
   ],
   "source": [
    "s1 = \"Ault\"\n",
    "s2 = \"Kelly\"\n",
    "def append_middle(s1, s2):\n",
    "    print(\"Original Strings are\", s1, s2)\n",
    "\n",
    "    # middle index number of s1\n",
    "    mi = int(len(s1) / 2)\n",
    "\n",
    "    # get character from 0 to the middle index number from s1\n",
    "    x = s1[:mi:]\n",
    "    # concatenate s2 to it\n",
    "    x = x + s2\n",
    "    # append remaining character from s1\n",
    "    x = x + s1[mi:]\n",
    "    print(\"After appending new string in middle:\", x)\n",
    "\n",
    "append_middle(\"Ault\", \"Kelly\")"
   ]
  },
  {
   "cell_type": "code",
   "execution_count": 116,
   "id": "14280036",
   "metadata": {},
   "outputs": [],
   "source": [
    "def newstr(s1,s2):\n",
    "    m=int(len(s1)/2)\n",
    "    x=s1[:m:]\n",
    "    x=x+s2\n",
    "    x=x+s1[m:]\n",
    "    return x\n",
    "    "
   ]
  },
  {
   "cell_type": "code",
   "execution_count": 117,
   "id": "c5f5d960",
   "metadata": {},
   "outputs": [
    {
     "data": {
      "text/plain": [
       "'AuKellylt'"
      ]
     },
     "execution_count": 117,
     "metadata": {},
     "output_type": "execute_result"
    }
   ],
   "source": [
    "newstr(\"Ault\",\"Kelly\")"
   ]
  },
  {
   "cell_type": "code",
   "execution_count": 127,
   "id": "ddb28f5b",
   "metadata": {},
   "outputs": [
    {
     "data": {
      "text/plain": [
       "4"
      ]
     },
     "execution_count": 127,
     "metadata": {},
     "output_type": "execute_result"
    }
   ],
   "source": [
    "s=\"Priyanka\"\n",
    "d=\"Vivek\"\n",
    "m=int(len(s)/2)\n",
    "m"
   ]
  },
  {
   "cell_type": "code",
   "execution_count": 132,
   "id": "01d8cd8d",
   "metadata": {},
   "outputs": [
    {
     "name": "stdout",
     "output_type": "stream",
     "text": [
      "Priy\n",
      "anka\n"
     ]
    }
   ],
   "source": [
    "a=s[:m]\n",
    "b=s[m:]\n",
    "print(a)\n",
    "print(b)"
   ]
  },
  {
   "cell_type": "code",
   "execution_count": 133,
   "id": "e1a6b3b0",
   "metadata": {},
   "outputs": [
    {
     "data": {
      "text/plain": [
       "'PriyVivek'"
      ]
     },
     "execution_count": 133,
     "metadata": {},
     "output_type": "execute_result"
    }
   ],
   "source": [
    "a=a+d\n",
    "a"
   ]
  },
  {
   "cell_type": "code",
   "execution_count": 134,
   "id": "cc0708eb",
   "metadata": {},
   "outputs": [
    {
     "data": {
      "text/plain": [
       "'PriyVivekanka'"
      ]
     },
     "execution_count": 134,
     "metadata": {},
     "output_type": "execute_result"
    }
   ],
   "source": [
    "a=a+b\n",
    "a"
   ]
  },
  {
   "cell_type": "markdown",
   "id": "7d52b5e1",
   "metadata": {},
   "source": [
    "Exercise 3: Create a new string made of the first, middle, and last characters of each input string"
   ]
  },
  {
   "cell_type": "code",
   "execution_count": 142,
   "id": "707b81f9",
   "metadata": {},
   "outputs": [
    {
     "data": {
      "text/plain": [
       "'AJrpan'"
      ]
     },
     "execution_count": 142,
     "metadata": {},
     "output_type": "execute_result"
    }
   ],
   "source": [
    "s1 = \"America\"\n",
    "s2 = \"Japan\"\n",
    "def mixstr(s1,s2):\n",
    "    first=s1[0]+s2[0]\n",
    "    middle=s1[int(len(s1)/2):int(len(s1)/2+1)]+s2[int(len(s2)/2):int(len(s2)/2+1)]\n",
    "    last=s1[-1]+s2[-1]\n",
    "    final=first+middle+last\n",
    "    return final\n",
    "mixstr(s1,s2)\n"
   ]
  },
  {
   "cell_type": "markdown",
   "id": "fb945788",
   "metadata": {},
   "source": [
    "Exercise 4: Arrange string characters such that lowercase letters should come first"
   ]
  },
  {
   "cell_type": "code",
   "execution_count": 147,
   "id": "514038f8",
   "metadata": {},
   "outputs": [
    {
     "data": {
      "text/plain": [
       "'yaivePNT'"
      ]
     },
     "execution_count": 147,
     "metadata": {},
     "output_type": "execute_result"
    }
   ],
   "source": [
    "str1 = \"PyNaTive\"\n",
    "l=[]\n",
    "u=[]\n",
    "for i in str1:\n",
    "    if i.islower():\n",
    "        l.append(i)\n",
    "    else :\n",
    "        u.append(i)\n",
    "sort=\"\".join(l+u)\n",
    "sort"
   ]
  },
  {
   "cell_type": "markdown",
   "id": "c487cbc0",
   "metadata": {},
   "source": [
    "Exercise 5: Count all letters, digits, and special symbols from a given \"string and list manupulation.ipynb\""
   ]
  },
  {
   "cell_type": "code",
   "execution_count": 160,
   "id": "eb722312",
   "metadata": {},
   "outputs": [
    {
     "name": "stdout",
     "output_type": "stream",
     "text": [
      "Chars = 8 Digits = 2 Symbol = 3\n"
     ]
    }
   ],
   "source": [
    "str1 = \"P@#yn26at^&i5ve\"\n",
    "letter= 0\n",
    "digit = 0\n",
    "symbol= 0\n",
    "for char in sample_str:\n",
    "    if char.isalpha():\n",
    "        letter += 1\n",
    "    elif char.isdigit():\n",
    "        digit += 1\n",
    "        # if it is not letter or digit then it is special symbol\n",
    "    else:\n",
    "        symbol += 1\n",
    "\n",
    "print(\"Chars =\", letter, \"Digits =\", digit, \"Symbol =\", symbol)\n",
    "\n",
    "\n"
   ]
  },
  {
   "cell_type": "code",
   "execution_count": 154,
   "id": "e654285c",
   "metadata": {},
   "outputs": [
    {
     "name": "stdout",
     "output_type": "stream",
     "text": [
      "total counts of chars, Digits, and symbols \n",
      "\n",
      "Chars = 8 Digits = 2 Symbol = 3\n"
     ]
    }
   ],
   "source": [
    "def find_digits_chars_symbols(sample_str):\n",
    "    char_count = 0\n",
    "    digit_count = 0\n",
    "    symbol_count = 0\n",
    "    for char in sample_str:\n",
    "        if char.isalpha():\n",
    "            char_count += 1\n",
    "        elif char.isdigit():\n",
    "            digit_count += 1\n",
    "        # if it is not letter or digit then it is special symbol\n",
    "        else:\n",
    "            symbol_count += 1\n",
    "\n",
    "    print(\"Chars =\", char_count, \"Digits =\", digit_count, \"Symbol =\", symbol_count)\n",
    "\n",
    "sample_str = \"P@yn2at&#i5ve\"\n",
    "print(\"total counts of chars, Digits, and symbols \\n\")\n",
    "find_digits_chars_symbols(sample_str)"
   ]
  },
  {
   "cell_type": "markdown",
   "id": "070d8d8d",
   "metadata": {},
   "source": [
    "Exercise 6: Create a mixed String using the following rules"
   ]
  },
  {
   "cell_type": "code",
   "execution_count": 170,
   "id": "74e99933",
   "metadata": {},
   "outputs": [],
   "source": [
    "s1 = \"Abc\"\n",
    "s2 = \"Xyz\"\n"
   ]
  },
  {
   "cell_type": "code",
   "execution_count": 179,
   "id": "a361777c",
   "metadata": {},
   "outputs": [],
   "source": [
    "s3=s1[0:3:1]+s2[-1:-4:-1]"
   ]
  },
  {
   "cell_type": "code",
   "execution_count": 183,
   "id": "7454dfc2",
   "metadata": {},
   "outputs": [
    {
     "data": {
      "text/plain": [
       "'AXbycz'"
      ]
     },
     "execution_count": 183,
     "metadata": {},
     "output_type": "execute_result"
    }
   ],
   "source": [
    "s1[0]+s2[-1]+s1[1]+s2[-2]+s1[2]+s2[-3]"
   ]
  },
  {
   "cell_type": "code",
   "execution_count": 181,
   "id": "e2ef894f",
   "metadata": {},
   "outputs": [
    {
     "name": "stdout",
     "output_type": "stream",
     "text": [
      "AzbycX\n"
     ]
    }
   ],
   "source": [
    "s1 = \"Abc\"\n",
    "s2 = \"Xyz\"\n",
    "\n",
    "# get string length\n",
    "s1_length = len(s1)\n",
    "s2_length = len(s2)\n",
    "\n",
    "# get length of a bigger string\n",
    "length = s1_length if s1_length > s2_length else s2_length\n",
    "result = \"\"\n",
    "\n",
    "# reverse s2\n",
    "s2 = s2[::-1]\n",
    "\n",
    "# iterate string \n",
    "# s1 ascending and s2 descending\n",
    "for i in range(length):\n",
    "    if i < s1_length:\n",
    "        result = result + s1[i]\n",
    "    if i < s2_length:\n",
    "        result = result + s2[i]\n",
    "\n",
    "print(result)"
   ]
  },
  {
   "cell_type": "markdown",
   "id": "a4b02329",
   "metadata": {},
   "source": [
    "Exercise 7: String characters balance Test"
   ]
  },
  {
   "cell_type": "code",
   "execution_count": 184,
   "id": "b958ac57",
   "metadata": {},
   "outputs": [
    {
     "data": {
      "text/plain": [
       "True"
      ]
     },
     "execution_count": 184,
     "metadata": {},
     "output_type": "execute_result"
    }
   ],
   "source": [
    "s1 = \"Yn\"\n",
    "s2 = \"PYnative\"\n",
    "s1 in s2"
   ]
  },
  {
   "cell_type": "code",
   "execution_count": 185,
   "id": "f6a89a04",
   "metadata": {},
   "outputs": [
    {
     "data": {
      "text/plain": [
       "False"
      ]
     },
     "execution_count": 185,
     "metadata": {},
     "output_type": "execute_result"
    }
   ],
   "source": [
    "s1 = \"Ynf\"\n",
    "s2 = \"PYnative\"\n",
    "s1 in s2"
   ]
  },
  {
   "cell_type": "markdown",
   "id": "4ef2151a",
   "metadata": {},
   "source": [
    "Exercise 8: Find all occurrences of a substring in a given string by ignoring the case"
   ]
  },
  {
   "cell_type": "code",
   "execution_count": 187,
   "id": "d4b69370",
   "metadata": {},
   "outputs": [
    {
     "data": {
      "text/plain": [
       "2"
      ]
     },
     "execution_count": 187,
     "metadata": {},
     "output_type": "execute_result"
    }
   ],
   "source": [
    "str1 = \"Welcome to USA. usa awesome, isn't it?\"\n",
    "substr=\"USA\"\n",
    "temstr=str1.lower()\n",
    "count=temstr.count(substr.lower())\n",
    "count"
   ]
  },
  {
   "cell_type": "markdown",
   "id": "1842262e",
   "metadata": {},
   "source": [
    "Exercise 9: Calculate the sum and average of the digits present in a string"
   ]
  },
  {
   "cell_type": "code",
   "execution_count": 191,
   "id": "f0ec3ab2",
   "metadata": {},
   "outputs": [
    {
     "name": "stdout",
     "output_type": "stream",
     "text": [
      "38 , 6.333333333333333\n"
     ]
    }
   ],
   "source": [
    "str1 = \"PYnative29@#8496\"\n",
    "total=0\n",
    "ava=0\n",
    "for i in str1:\n",
    "    if i.isdigit():\n",
    "        total+=int(i)\n",
    "        ava+=1\n",
    "ava=total/ava\n",
    "print(total,\",\",ava)"
   ]
  },
  {
   "cell_type": "markdown",
   "id": "afa198e7",
   "metadata": {},
   "source": [
    "Exercise 10: Write a program to count occurrences of all characters within a string"
   ]
  },
  {
   "cell_type": "code",
   "execution_count": 208,
   "id": "0ed58c67",
   "metadata": {},
   "outputs": [
    {
     "name": "stdout",
     "output_type": "stream",
     "text": [
      "{'A': 1, 'p': 2, 'l': 1, 'e': 1}\n"
     ]
    }
   ],
   "source": [
    "str1 = \"Apple\"\n",
    "idict=dict()\n",
    "for i in str1:\n",
    "    j=str1.count(i)\n",
    "    idict[i]=j\n",
    "print(idict)"
   ]
  },
  {
   "cell_type": "markdown",
   "id": "68e001fa",
   "metadata": {},
   "source": [
    "Exercise 11: Reverse a given string"
   ]
  },
  {
   "cell_type": "code",
   "execution_count": 216,
   "id": "d8f34580",
   "metadata": {},
   "outputs": [
    {
     "data": {
      "text/plain": [
       "'evitanYP'"
      ]
     },
     "execution_count": 216,
     "metadata": {},
     "output_type": "execute_result"
    }
   ],
   "source": [
    "str1 = \"PYnative\"\n",
    "str1[::-1]"
   ]
  },
  {
   "cell_type": "markdown",
   "id": "e3628dd3",
   "metadata": {},
   "source": [
    "Exercise 12: Find the last position of a given substring"
   ]
  },
  {
   "cell_type": "code",
   "execution_count": 223,
   "id": "ba2bb0aa",
   "metadata": {},
   "outputs": [
    {
     "name": "stdout",
     "output_type": "stream",
     "text": [
      "43\n"
     ]
    }
   ],
   "source": [
    "str1 = \"Emma is a data scientist who knows Python. Emma works at google.\"\n",
    "print(str1.rfind(\"Emma\"))\n"
   ]
  },
  {
   "cell_type": "markdown",
   "id": "74c729ba",
   "metadata": {},
   "source": [
    "Exercise 13: Split a string on hyphens"
   ]
  },
  {
   "cell_type": "code",
   "execution_count": 236,
   "id": "7eb12766",
   "metadata": {},
   "outputs": [
    {
     "name": "stdout",
     "output_type": "stream",
     "text": [
      "Emma\n",
      "is\n",
      "a\n",
      "data\n",
      "scientist\n"
     ]
    }
   ],
   "source": [
    "str1 = \"Emma-is-a-data-scientist\"\n",
    "p=str1.split(\"-\")\n",
    "for i in p:\n",
    "    print(i)\n"
   ]
  },
  {
   "cell_type": "markdown",
   "id": "06c9e79f",
   "metadata": {},
   "source": [
    "Exercise 14: Remove empty strings from a list of strings"
   ]
  },
  {
   "cell_type": "code",
   "execution_count": 246,
   "id": "0c830f1f",
   "metadata": {},
   "outputs": [
    {
     "name": "stdout",
     "output_type": "stream",
     "text": [
      "['Emma', 'Jon', 'Kelly', 'Eric']\n"
     ]
    }
   ],
   "source": [
    "str_list = [\"Emma\", \"Jon\", \"\", \"Kelly\", None, \"Eric\", \"\"]\n",
    "new=[]\n",
    "for i in str_list:\n",
    "    if i:\n",
    "        new.append(i)\n",
    "print(new)"
   ]
  },
  {
   "cell_type": "markdown",
   "id": "7459ed6f",
   "metadata": {},
   "source": [
    "Exercise 15: Remove special symbols / punctuation from a string"
   ]
  },
  {
   "cell_type": "code",
   "execution_count": 248,
   "id": "aece2110",
   "metadata": {},
   "outputs": [
    {
     "data": {
      "text/plain": [
       "'Jon is developer  musician'"
      ]
     },
     "execution_count": 248,
     "metadata": {},
     "output_type": "execute_result"
    }
   ],
   "source": [
    "import string\n",
    "str1 = \"/*Jon is @developer & musician\"\n",
    "str=str1.translate(str1.maketrans('','',string.punctuation))\n",
    "str"
   ]
  },
  {
   "cell_type": "markdown",
   "id": "7f8d7254",
   "metadata": {},
   "source": [
    "Exercise 16: Removal all characters from a string except integers"
   ]
  },
  {
   "cell_type": "code",
   "execution_count": 250,
   "id": "b071d8bb",
   "metadata": {},
   "outputs": [
    {
     "name": "stdout",
     "output_type": "stream",
     "text": [
      "2510"
     ]
    }
   ],
   "source": [
    "str1 = 'I am 25 years and 10 months old'\n",
    "for i in str1:\n",
    "    if i.isdigit():\n",
    "        print(i,end=\"\")"
   ]
  },
  {
   "cell_type": "markdown",
   "id": "14a7b0b9",
   "metadata": {},
   "source": [
    "Exercise 17: Find words with both alphabets and numbers"
   ]
  },
  {
   "cell_type": "code",
   "execution_count": 265,
   "id": "30bfdda1",
   "metadata": {},
   "outputs": [
    {
     "name": "stdout",
     "output_type": "stream",
     "text": [
      "Emma25\n",
      "scientist50\n"
     ]
    }
   ],
   "source": [
    "str1 = \"Emma25 is Data scientist50 and AI Expert\"\n",
    "res=[]\n",
    "temp=str1.split()\n",
    "for item in temp:\n",
    "     if any(i.isalpha() for i in item) and any(i.isdigit() for i in item):\n",
    "        res.append(item)\n",
    "for j in res:\n",
    "    print(j)"
   ]
  },
  {
   "cell_type": "markdown",
   "id": "c9a3405c",
   "metadata": {},
   "source": [
    "Exercise 18: Replace each special symbol with # in the following string"
   ]
  },
  {
   "cell_type": "code",
   "execution_count": 266,
   "id": "25a247a2",
   "metadata": {},
   "outputs": [
    {
     "data": {
      "text/plain": [
       "'##Jon is #developer # musician##'"
      ]
     },
     "execution_count": 266,
     "metadata": {},
     "output_type": "execute_result"
    }
   ],
   "source": [
    "\n",
    "import string\n",
    "str1 = '/*Jon is @developer & musician!!'\n",
    "replace_char='#'\n",
    "for i in string.punctuation:\n",
    "    str1=str1.replace(i,replace_char)\n",
    "str1"
   ]
  },
  {
   "cell_type": "code",
   "execution_count": 270,
   "id": "b8f54f91",
   "metadata": {},
   "outputs": [],
   "source": [
    "aList = ['a', 'b', 'c', 'd']\n",
    "newList = list(aList)"
   ]
  },
  {
   "cell_type": "code",
   "execution_count": 272,
   "id": "0c2265cc",
   "metadata": {},
   "outputs": [
    {
     "ename": "NameError",
     "evalue": "name 'dict1' is not defined",
     "output_type": "error",
     "traceback": [
      "\u001b[1;31m---------------------------------------------------------------------------\u001b[0m",
      "\u001b[1;31mNameError\u001b[0m                                 Traceback (most recent call last)",
      "\u001b[1;32m<ipython-input-272-7598bde5d736>\u001b[0m in \u001b[0;36m<module>\u001b[1;34m\u001b[0m\n\u001b[1;32m----> 1\u001b[1;33m \u001b[0mdict2\u001b[0m \u001b[1;33m=\u001b[0m \u001b[0mdict1\u001b[0m\u001b[1;33m.\u001b[0m\u001b[0mcopy\u001b[0m\u001b[1;33m(\u001b[0m\u001b[1;33m)\u001b[0m\u001b[1;33m\u001b[0m\u001b[1;33m\u001b[0m\u001b[0m\n\u001b[0m\u001b[0;32m      2\u001b[0m \u001b[0mdict2\u001b[0m \u001b[1;33m=\u001b[0m \u001b[0mdict\u001b[0m\u001b[1;33m(\u001b[0m\u001b[0mdict1\u001b[0m\u001b[1;33m)\u001b[0m\u001b[1;33m\u001b[0m\u001b[1;33m\u001b[0m\u001b[0m\n\u001b[0;32m      3\u001b[0m \u001b[0mdict2\u001b[0m \u001b[1;33m=\u001b[0m \u001b[0mdict1\u001b[0m\u001b[1;33m\u001b[0m\u001b[1;33m\u001b[0m\u001b[0m\n",
      "\u001b[1;31mNameError\u001b[0m: name 'dict1' is not defined"
     ]
    }
   ],
   "source": [
    "dict2 = dict1.copy()\n",
    "dict2 = dict(dict1)\n",
    "dict2 = dict1"
   ]
  },
  {
   "cell_type": "markdown",
   "id": "2f3c529a",
   "metadata": {},
   "source": [
    "Exercise 1: Create a list by picking an odd-index items from the first list and even index items from the second"
   ]
  },
  {
   "cell_type": "code",
   "execution_count": 13,
   "id": "f1bb6a8f",
   "metadata": {},
   "outputs": [],
   "source": [
    "l1 = [3, 6, 9, 12, 15, 18, 21]\n",
    "l2 = [4, 8, 12, 16, 20, 24, 28]\n",
    "l3=l1[1::2]\n",
    "l4=l2[::2]"
   ]
  },
  {
   "cell_type": "code",
   "execution_count": 18,
   "id": "e2e589b0",
   "metadata": {},
   "outputs": [
    {
     "name": "stdout",
     "output_type": "stream",
     "text": [
      "[6, 12, 18]\n",
      "[4, 12, 20, 28]\n"
     ]
    },
    {
     "data": {
      "text/plain": [
       "[6, 12, 18, 4, 12, 20, 28]"
      ]
     },
     "execution_count": 18,
     "metadata": {},
     "output_type": "execute_result"
    }
   ],
   "source": [
    "print(l3)\n",
    "print(l4)\n",
    "l=l3+l4\n",
    "l"
   ]
  },
  {
   "cell_type": "markdown",
   "id": "a79dfec9",
   "metadata": {},
   "source": [
    "Exercise 2: Remove and add item in a list"
   ]
  },
  {
   "cell_type": "code",
   "execution_count": 28,
   "id": "dbbc7797",
   "metadata": {},
   "outputs": [
    {
     "data": {
      "text/plain": [
       "[15, 25, 97, 98, 10]"
      ]
     },
     "execution_count": 28,
     "metadata": {},
     "output_type": "execute_result"
    }
   ],
   "source": [
    "l=[15,25,97,98,3,10]\n",
    "l.pop(4)\n",
    "l"
   ]
  },
  {
   "cell_type": "code",
   "execution_count": 29,
   "id": "05177048",
   "metadata": {},
   "outputs": [
    {
     "data": {
      "text/plain": [
       "[15, 25, 3, 97, 98, 10]"
      ]
     },
     "execution_count": 29,
     "metadata": {},
     "output_type": "execute_result"
    }
   ],
   "source": [
    "l.insert(2,3)\n",
    "l"
   ]
  },
  {
   "cell_type": "code",
   "execution_count": 30,
   "id": "5acafe29",
   "metadata": {},
   "outputs": [
    {
     "data": {
      "text/plain": [
       "[15, 25, 3, 97, 98, 10, 3]"
      ]
     },
     "execution_count": 30,
     "metadata": {},
     "output_type": "execute_result"
    }
   ],
   "source": [
    "l.append(3)\n",
    "l"
   ]
  },
  {
   "cell_type": "markdown",
   "id": "e0f1caf3",
   "metadata": {},
   "source": [
    "Exercise 3: Slice list into 3 equal chunks and reverse each chunk"
   ]
  },
  {
   "cell_type": "code",
   "execution_count": 42,
   "id": "4bf01a60",
   "metadata": {},
   "outputs": [
    {
     "name": "stdout",
     "output_type": "stream",
     "text": [
      "[11, 45, 8]\n",
      "[8, 45, 11]\n",
      "[23, 14, 12]\n",
      "[12, 14, 23]\n",
      "[78, 45, 89]\n",
      "[89, 45, 78]\n"
     ]
    }
   ],
   "source": [
    "sample_list = [11, 45, 8, 23, 14, 12, 78, 45, 89]\n",
    "a=sample_list[:3]\n",
    "a1=a[::-1]\n",
    "print(a)\n",
    "print(a1)\n",
    "b=sample_list[3:6]\n",
    "b1=b[::-1]\n",
    "print(b)\n",
    "print(b1)\n",
    "c=sample_list[6:]\n",
    "c1=c[::-1]\n",
    "print(c)\n",
    "print(c1)"
   ]
  },
  {
   "cell_type": "code",
   "execution_count": 43,
   "id": "14b60d28",
   "metadata": {},
   "outputs": [
    {
     "name": "stdout",
     "output_type": "stream",
     "text": [
      "Original list  [11, 45, 8, 23, 14, 12, 78, 45, 89]\n",
      "Chunk  0 [11, 45, 8]\n",
      "After reversing it  [8, 45, 11]\n",
      "Chunk  1 [23, 14, 12]\n",
      "After reversing it  [12, 14, 23]\n",
      "Chunk  2 [78, 45, 89]\n",
      "After reversing it  [89, 45, 78]\n"
     ]
    }
   ],
   "source": [
    "sample_list = [11, 45, 8, 23, 14, 12, 78, 45, 89]\n",
    "print(\"Original list \", sample_list)\n",
    "\n",
    "length = len(sample_list)\n",
    "chunk_size = int(length / 3)\n",
    "start = 0\n",
    "end = chunk_size\n",
    "\n",
    "# run loop 3 times\n",
    "for i in range(3):\n",
    "    # get indexes\n",
    "    indexes = slice(start, end)\n",
    "    \n",
    "    # get chunk\n",
    "    list_chunk = sample_list[indexes]\n",
    "    print(\"Chunk \", i, list_chunk)\n",
    "    \n",
    "    # reverse chunk\n",
    "    print(\"After reversing it \", list(reversed(list_chunk)))\n",
    "\n",
    "    start = end\n",
    "    end += chunk_size"
   ]
  },
  {
   "cell_type": "markdown",
   "id": "f1690dba",
   "metadata": {},
   "source": [
    "Exercise 4: Count the occurrence of each element from a list"
   ]
  },
  {
   "cell_type": "code",
   "execution_count": 2,
   "id": "cf3c04e3",
   "metadata": {},
   "outputs": [
    {
     "name": "stdout",
     "output_type": "stream",
     "text": [
      "{11: 2, 45: 3, 8: 1, 23: 2, 89: 1}\n"
     ]
    }
   ],
   "source": [
    "sample_list = [11, 45, 8, 11, 23, 45, 23, 45, 89]\n",
    "dict1={}\n",
    "for i in sample_list:\n",
    "    if i in dict1:\n",
    "        dict1[i]+=1\n",
    "    else:\n",
    "        dict1[i] = 1\n",
    "print(dict1)\n",
    "        "
   ]
  },
  {
   "cell_type": "markdown",
   "id": "3f02e8ca",
   "metadata": {},
   "source": [
    "Exercise 5: Create a Python set such that it shows the element from both lists in a pair"
   ]
  },
  {
   "cell_type": "code",
   "execution_count": 1,
   "id": "5ece7c14",
   "metadata": {},
   "outputs": [],
   "source": [
    "first_list = [2, 3, 4, 5, 6, 7, 8]\n",
    "second_list = [4, 9, 16, 25, 36, 49, 64]"
   ]
  },
  {
   "cell_type": "code",
   "execution_count": 3,
   "id": "ec3dd3a6",
   "metadata": {},
   "outputs": [
    {
     "data": {
      "text/plain": [
       "{(2, 4), (3, 9), (4, 16), (5, 25), (6, 36), (7, 49), (8, 64)}"
      ]
     },
     "execution_count": 3,
     "metadata": {},
     "output_type": "execute_result"
    }
   ],
   "source": [
    "result_list = zip(first_list,second_list)\n",
    "result = set(result_list)\n",
    "result"
   ]
  },
  {
   "cell_type": "markdown",
   "id": "d9636331",
   "metadata": {},
   "source": [
    "Exercise 6: Find the intersection (common) of two sets and remove those elements from the first set"
   ]
  },
  {
   "cell_type": "code",
   "execution_count": 17,
   "id": "163d93fe",
   "metadata": {},
   "outputs": [
    {
     "name": "stdout",
     "output_type": "stream",
     "text": [
      "{65, 42, 78, 83, 23, 57, 29}\n",
      "{67, 73, 43, 48, 83, 57, 29}\n",
      "intersection is {57, 83, 29}\n",
      "{65, 42, 78, 23}\n"
     ]
    }
   ],
   "source": [
    "first_set = {23, 42, 65, 57, 78, 83, 29}\n",
    "second_set = {57, 83, 29, 67, 73, 43, 48}\n",
    "print(first_set)\n",
    "print(second_set)\n",
    "a = first_set.intersection(second_set)\n",
    "print(\"intersection is\",a)\n",
    "for i in a:\n",
    "    first_set.remove(i)\n",
    "print(first_set)\n"
   ]
  },
  {
   "cell_type": "markdown",
   "id": "45e98705",
   "metadata": {},
   "source": [
    "Exercise 7: Checks if one set is a subset or superset of another set. If found, delete all elements from that set"
   ]
  },
  {
   "cell_type": "code",
   "execution_count": 23,
   "id": "1c69ec5a",
   "metadata": {},
   "outputs": [
    {
     "name": "stdout",
     "output_type": "stream",
     "text": [
      "first_set is subset of second_set: True\n",
      "second_set is subset of first_set: False\n",
      "first_set is superset of first_set: False\n",
      "second_set is superset of first_set: True\n",
      "first_set set()\n",
      "second_set {34, 43, 48, 53, 22, 27, 93}\n"
     ]
    }
   ],
   "source": [
    "first_set = {27, 43, 34}\n",
    "second_set = {34, 93, 22, 27, 43, 53, 48}\n",
    "case1=first_set.issubset(second_set)\n",
    "print(\"first_set is subset of second_set:\",case1)\n",
    "case2=second_set.issubset(first_set)\n",
    "print(\"second_set is subset of first_set:\",case2)\n",
    "case3=first_set.issuperset(second_set)\n",
    "print(\"first_set is superset of first_set:\",case3)\n",
    "case4=second_set.issuperset(first_set)\n",
    "print(\"second_set is superset of first_set:\",case4)\n",
    "\n",
    "if case1 == True:\n",
    "    first_set.clear()\n",
    "print(\"first_set\",first_set)\n",
    "print(\"second_set\",second_set)"
   ]
  },
  {
   "cell_type": "markdown",
   "id": "7d7ba290",
   "metadata": {},
   "source": [
    "Exercise 8: Iterate a given list and check if a given element exists as a key’s value in a dictionary. If not, delete it from the list"
   ]
  },
  {
   "cell_type": "code",
   "execution_count": 40,
   "id": "11f1c9bf",
   "metadata": {},
   "outputs": [
    {
     "name": "stdout",
     "output_type": "stream",
     "text": [
      "[47, 69, 76, 97]\n"
     ]
    }
   ],
   "source": [
    "roll_number = [47, 64, 69, 37, 76, 83, 95, 97]\n",
    "sample_dict = {'Jhon':47, 'Emma':69, 'Kelly':76, 'Jason':97}\n",
    "# for i in roll_number:\n",
    "#     if i in sample_dict.values():\n",
    "#         print(i,end=\",\")\n",
    "# print(\"\\n\",roll_number)\n",
    "roll_number[:] = [item for item in roll_number if item in sample_dict.values()]\n",
    "print(roll_number)"
   ]
  },
  {
   "cell_type": "markdown",
   "id": "68f1eff8",
   "metadata": {},
   "source": [
    "Exercise 9: Get all values from the dictionary and add them to a list but don’t add duplicates"
   ]
  },
  {
   "cell_type": "code",
   "execution_count": 47,
   "id": "03330757",
   "metadata": {},
   "outputs": [
    {
     "name": "stdout",
     "output_type": "stream",
     "text": [
      "dict_values([47, 52, 47, 44, 52, 53, 54, 44, 54])\n",
      "[47, 52, 44, 53, 54]\n"
     ]
    }
   ],
   "source": [
    "speed = {'jan': 47, 'feb': 52, 'march': 47, 'April': 44, 'May': 52, 'June': 53, 'july': 54, 'Aug': 44, 'Sept': 54}\n",
    "print(speed.values())\n",
    "l=[]\n",
    "for i in speed.values():\n",
    "    if i not in l:\n",
    "        l.append(i)\n",
    "print(l)\n"
   ]
  },
  {
   "cell_type": "markdown",
   "id": "04895abb",
   "metadata": {},
   "source": [
    "Exercise 10: Remove duplicates from a list and create a tuple and find the minimum and maximum number"
   ]
  },
  {
   "cell_type": "code",
   "execution_count": 49,
   "id": "af66d754",
   "metadata": {},
   "outputs": [
    {
     "name": "stdout",
     "output_type": "stream",
     "text": [
      "unique_list [65, 99, 41, 45, 87, 94]\n",
      "tuple (65, 99, 41, 45, 87, 94)\n",
      "max 99\n",
      "min 41\n"
     ]
    }
   ],
   "source": [
    "sample_list = [87, 45, 41, 65, 94, 41, 99, 94]\n",
    "new_list = list(set(sample_list))\n",
    "print(\"unique_list\",new_list)\n",
    "new_tuple=tuple(new_list)\n",
    "print(\"tuple\",new_tuple)\n",
    "print(\"max\",max(sample_list))\n",
    "print(\"min\",min(sample_list))\n"
   ]
  },
  {
   "cell_type": "markdown",
   "id": "fae74800",
   "metadata": {},
   "source": [
    "Exercise 1: Reverse a list in Python"
   ]
  },
  {
   "cell_type": "code",
   "execution_count": 57,
   "id": "42517d86",
   "metadata": {},
   "outputs": [
    {
     "data": {
      "text/plain": [
       "[500, 400, 300, 200, 100]"
      ]
     },
     "execution_count": 57,
     "metadata": {},
     "output_type": "execute_result"
    }
   ],
   "source": [
    "list1 = [100, 200, 300, 400, 500]\n",
    "list1.reverse()\n",
    "list1"
   ]
  },
  {
   "cell_type": "markdown",
   "id": "6293a784",
   "metadata": {},
   "source": [
    "Exercise 2: Concatenate two lists index-wise"
   ]
  },
  {
   "cell_type": "code",
   "execution_count": 66,
   "id": "d046d2b8",
   "metadata": {},
   "outputs": [
    {
     "name": "stdout",
     "output_type": "stream",
     "text": [
      "['My', 'name', 'is', 'Kelly']\n"
     ]
    }
   ],
   "source": [
    "list1 = [\"M\", \"na\", \"i\", \"Ke\"]\n",
    "list2 = [\"y\", \"me\", \"s\", \"lly\"]\n",
    "list3 = [i + j for i, j in zip(list1, list2)]\n",
    "print(list3)"
   ]
  },
  {
   "cell_type": "markdown",
   "id": "9c90132c",
   "metadata": {},
   "source": [
    "Exercise 3: Turn every item of a list into its square"
   ]
  },
  {
   "cell_type": "code",
   "execution_count": 8,
   "id": "2cfb444d",
   "metadata": {},
   "outputs": [
    {
     "name": "stdout",
     "output_type": "stream",
     "text": [
      "[1, 4, 9, 16, 25, 36, 49]\n"
     ]
    }
   ],
   "source": [
    "numbers = [1, 2, 3, 4, 5, 6, 7]\n",
    "n=[]\n",
    "for i in numbers:\n",
    "    n.append(i**2)\n",
    "print(n)"
   ]
  },
  {
   "cell_type": "markdown",
   "id": "52149817",
   "metadata": {},
   "source": [
    "Exercise 4: Concatenate two lists in the following order"
   ]
  },
  {
   "cell_type": "code",
   "execution_count": 11,
   "id": "c9d3377a",
   "metadata": {},
   "outputs": [
    {
     "name": "stdout",
     "output_type": "stream",
     "text": [
      "['Hello Dear', 'Hello Sir', 'take Dear', 'take Sir']\n"
     ]
    }
   ],
   "source": [
    "list1 = [\"Hello \", \"take \"]\n",
    "list2 = [\"Dear\", \"Sir\"]\n",
    "list3=[]\n",
    "for i in list1:\n",
    "    for j in list2:\n",
    "        list3.append(i+j)\n",
    "print(list3)"
   ]
  },
  {
   "cell_type": "markdown",
   "id": "13c1430f",
   "metadata": {},
   "source": [
    "Exercise 5: Iterate both lists simultaneously"
   ]
  },
  {
   "cell_type": "code",
   "execution_count": 24,
   "id": "cddf1248",
   "metadata": {},
   "outputs": [
    {
     "name": "stdout",
     "output_type": "stream",
     "text": [
      "10 400\n",
      "20 300\n",
      "30 200\n",
      "40 100\n"
     ]
    }
   ],
   "source": [
    "list1 = [10, 20, 30, 40]\n",
    "list2 = [100, 200, 300, 400]\n",
    "for x,y in zip(list1,list2[::-1]):\n",
    "    print(x,y)"
   ]
  },
  {
   "cell_type": "markdown",
   "id": "6b0bfb02",
   "metadata": {},
   "source": [
    "Exercise 6: Remove empty strings from the list of strings"
   ]
  },
  {
   "cell_type": "code",
   "execution_count": 32,
   "id": "a041e143",
   "metadata": {},
   "outputs": [
    {
     "data": {
      "text/plain": [
       "['Mike', 'Emma', 'Kelly', 'Brad']"
      ]
     },
     "execution_count": 32,
     "metadata": {},
     "output_type": "execute_result"
    }
   ],
   "source": [
    "list1 = [\"Mike\", \"\", \"Emma\", \"Kelly\", \"\", \"Brad\"]\n",
    "a=list(filter(None,list1))\n",
    "a"
   ]
  },
  {
   "cell_type": "markdown",
   "id": "d4dc884b",
   "metadata": {},
   "source": [
    "Exercise 7: Add new item to list after a specified item"
   ]
  },
  {
   "cell_type": "code",
   "execution_count": 37,
   "id": "af5bef06",
   "metadata": {},
   "outputs": [
    {
     "data": {
      "text/plain": [
       "[10, 20, [300, 400, [5000, 6000, 7000], 500], 30, 40]"
      ]
     },
     "execution_count": 37,
     "metadata": {},
     "output_type": "execute_result"
    }
   ],
   "source": [
    "list1 = [10, 20, [300, 400, [5000, 6000], 500], 30, 40]\n",
    "list1[2][2].append(7000)\n",
    "list1"
   ]
  },
  {
   "cell_type": "markdown",
   "id": "ee9aa80c",
   "metadata": {},
   "source": [
    "Exercise 8: Extend nested list by adding the sublist"
   ]
  },
  {
   "cell_type": "code",
   "execution_count": 47,
   "id": "cfdf2b1e",
   "metadata": {},
   "outputs": [
    {
     "data": {
      "text/plain": [
       "['a', 'b', ['c', ['d', 'e', ['f', 'g', 'h', 'i', 'j'], 'k'], 'l'], 'm', 'n']"
      ]
     },
     "execution_count": 47,
     "metadata": {},
     "output_type": "execute_result"
    }
   ],
   "source": [
    "list1 = [\"a\", \"b\", [\"c\", [\"d\", \"e\", [\"f\", \"g\"], \"k\"], \"l\"], \"m\", \"n\"]\n",
    "sub_list = [\"h\", \"i\", \"j\"]\n",
    "list1[2][1][2].extend(sub_list)\n",
    "list1"
   ]
  },
  {
   "cell_type": "markdown",
   "id": "b1d57fd5",
   "metadata": {},
   "source": [
    "Exercise 9: Replace list’s item with new value if found"
   ]
  },
  {
   "cell_type": "code",
   "execution_count": 48,
   "id": "c1138c4b",
   "metadata": {},
   "outputs": [
    {
     "data": {
      "text/plain": [
       "[5, 10, 15, 200, 25, 50, 20]"
      ]
     },
     "execution_count": 48,
     "metadata": {},
     "output_type": "execute_result"
    }
   ],
   "source": [
    "list1 = [5, 10, 15, 20, 25, 50, 20]\n",
    "i=list1.index(20)\n",
    "list1[i]=200\n",
    "list1"
   ]
  },
  {
   "cell_type": "markdown",
   "id": "4e68c233",
   "metadata": {},
   "source": [
    "Exercise 10: Remove all occurrences of a specific item from a list."
   ]
  },
  {
   "cell_type": "code",
   "execution_count": 52,
   "id": "9639ab29",
   "metadata": {},
   "outputs": [
    {
     "name": "stdout",
     "output_type": "stream",
     "text": [
      "[5, 15, 25, 50]\n"
     ]
    }
   ],
   "source": [
    "list1 = [5, 20, 15, 20, 25, 50, 20]\n",
    "while 20 in list1:\n",
    "    list1.remove(20)\n",
    "print(list1)"
   ]
  },
  {
   "cell_type": "markdown",
   "id": "0ed34e69",
   "metadata": {},
   "source": [
    "Exercise 1: Convert two lists into a dictionary"
   ]
  },
  {
   "cell_type": "code",
   "execution_count": 3,
   "id": "91050240",
   "metadata": {},
   "outputs": [
    {
     "data": {
      "text/plain": [
       "{'Ten': 10, 'Twenty': 20, 'Thirty': 30}"
      ]
     },
     "execution_count": 3,
     "metadata": {},
     "output_type": "execute_result"
    }
   ],
   "source": [
    "keys = ['Ten', 'Twenty', 'Thirty']\n",
    "values = [10, 20, 30]\n",
    "final= dict(zip(keys,values))\n",
    "final"
   ]
  },
  {
   "cell_type": "markdown",
   "id": "01c262ad",
   "metadata": {},
   "source": [
    "Exercise 2: Merge two Python dictionaries into one"
   ]
  },
  {
   "cell_type": "code",
   "execution_count": 7,
   "id": "5a54788b",
   "metadata": {},
   "outputs": [
    {
     "data": {
      "text/plain": [
       "{'Ten': 10, 'Twenty': 20, 'Thirty': 30, 'Fourty': 40, 'Fifty': 50}"
      ]
     },
     "execution_count": 7,
     "metadata": {},
     "output_type": "execute_result"
    }
   ],
   "source": [
    "dict1 = {'Ten': 10, 'Twenty': 20, 'Thirty': 30}\n",
    "dict2 = {'Thirty': 30, 'Fourty': 40, 'Fifty': 50}\n",
    "dict3 = {**dict1, **dict2}\n",
    "dict3"
   ]
  },
  {
   "cell_type": "code",
   "execution_count": 8,
   "id": "c8df3044",
   "metadata": {},
   "outputs": [
    {
     "data": {
      "text/plain": [
       "{'Ten': 10, 'Twenty': 20, 'Thirty': 30, 'Fourty': 40, 'Fifty': 50}"
      ]
     },
     "execution_count": 8,
     "metadata": {},
     "output_type": "execute_result"
    }
   ],
   "source": [
    "dict = dict1.copy()\n",
    "dict.update(dict2)\n",
    "dict"
   ]
  },
  {
   "cell_type": "markdown",
   "id": "d68eb0cc",
   "metadata": {},
   "source": [
    "Exercise 3: Print the value of key ‘history’ from the below dict"
   ]
  },
  {
   "cell_type": "code",
   "execution_count": 10,
   "id": "f24eb218",
   "metadata": {},
   "outputs": [
    {
     "data": {
      "text/plain": [
       "80"
      ]
     },
     "execution_count": 10,
     "metadata": {},
     "output_type": "execute_result"
    }
   ],
   "source": [
    "sampleDict = {\n",
    "    \"class\": {\n",
    "        \"student\": {\n",
    "            \"name\": \"Mike\",\n",
    "            \"marks\": {\n",
    "                \"physics\": 70,\n",
    "                \"history\": 80\n",
    "            }\n",
    "        }\n",
    "    }\n",
    "}\n",
    "sampleDict['class']['student']['marks']['history']"
   ]
  },
  {
   "cell_type": "markdown",
   "id": "922eb7fa",
   "metadata": {},
   "source": [
    "Exercise 4: Initialize dictionary with default values"
   ]
  },
  {
   "cell_type": "code",
   "execution_count": 11,
   "id": "4590e618",
   "metadata": {},
   "outputs": [],
   "source": [
    "employees = ['Kelly', 'Emma']\n",
    "defaults = {\"designation\": 'Developer', \"salary\": 8000}\n",
    "final = dict.fromkeys(employees,defaults)"
   ]
  },
  {
   "cell_type": "code",
   "execution_count": 12,
   "id": "d0ba57b5",
   "metadata": {},
   "outputs": [
    {
     "data": {
      "text/plain": [
       "{'Kelly': {'designation': 'Developer', 'salary': 8000},\n",
       " 'Emma': {'designation': 'Developer', 'salary': 8000}}"
      ]
     },
     "execution_count": 12,
     "metadata": {},
     "output_type": "execute_result"
    }
   ],
   "source": [
    "final"
   ]
  },
  {
   "cell_type": "markdown",
   "id": "876177f7",
   "metadata": {},
   "source": [
    "Exercise 5: Create a dictionary by extracting the keys from a given dictionary"
   ]
  },
  {
   "cell_type": "code",
   "execution_count": 37,
   "id": "f0bc5bf6",
   "metadata": {},
   "outputs": [
    {
     "ename": "TypeError",
     "evalue": "'dict' object is not callable",
     "output_type": "error",
     "traceback": [
      "\u001b[1;31m---------------------------------------------------------------------------\u001b[0m",
      "\u001b[1;31mTypeError\u001b[0m                                 Traceback (most recent call last)",
      "\u001b[1;32m<ipython-input-37-808df7494aab>\u001b[0m in \u001b[0;36m<module>\u001b[1;34m\u001b[0m\n\u001b[0;32m      5\u001b[0m     \"city\": \"New york\"}\n\u001b[0;32m      6\u001b[0m \u001b[0mkeys\u001b[0m \u001b[1;33m=\u001b[0m \u001b[1;33m[\u001b[0m\u001b[1;34m\"name\"\u001b[0m\u001b[1;33m,\u001b[0m \u001b[1;34m\"salary\"\u001b[0m\u001b[1;33m]\u001b[0m\u001b[1;33m\u001b[0m\u001b[1;33m\u001b[0m\u001b[0m\n\u001b[1;32m----> 7\u001b[1;33m \u001b[0mres\u001b[0m \u001b[1;33m=\u001b[0m \u001b[0mdict\u001b[0m\u001b[1;33m(\u001b[0m\u001b[1;33m)\u001b[0m\u001b[1;33m\u001b[0m\u001b[1;33m\u001b[0m\u001b[0m\n\u001b[0m\u001b[0;32m      8\u001b[0m \u001b[1;33m\u001b[0m\u001b[0m\n\u001b[0;32m      9\u001b[0m \u001b[1;32mfor\u001b[0m \u001b[0mk\u001b[0m \u001b[1;32min\u001b[0m \u001b[0mkeys\u001b[0m\u001b[1;33m:\u001b[0m\u001b[1;33m\u001b[0m\u001b[1;33m\u001b[0m\u001b[0m\n",
      "\u001b[1;31mTypeError\u001b[0m: 'dict' object is not callable"
     ]
    }
   ],
   "source": [
    "sample_dict = {\n",
    "    \"name\": \"Kelly\",\n",
    "    \"age\": 25,\n",
    "    \"salary\": 8000,\n",
    "    \"city\": \"New york\"}\n",
    "keys = [\"name\", \"salary\"]\n",
    "res = dict()\n",
    "\n",
    "for k in keys:\n",
    "    # add current key with its value from sample_dict\n",
    "    res.update({k: sample_dict[k]})\n",
    "print(res)"
   ]
  },
  {
   "cell_type": "code",
   "execution_count": 3,
   "id": "aa08a676",
   "metadata": {},
   "outputs": [
    {
     "data": {
      "text/plain": [
       "{'name': 'Kelly', 'salary': 8000}"
      ]
     },
     "execution_count": 3,
     "metadata": {},
     "output_type": "execute_result"
    }
   ],
   "source": [
    "newDict = {k: sample_dict[k] for k in keys}\n",
    "newDict"
   ]
  },
  {
   "cell_type": "code",
   "execution_count": 2,
   "id": "56384936",
   "metadata": {},
   "outputs": [
    {
     "name": "stdout",
     "output_type": "stream",
     "text": [
      "{'name': 'Kelly', 'salary': 8000}\n"
     ]
    }
   ],
   "source": [
    "res = dict()\n",
    "\n",
    "for k in keys:\n",
    "    # add current key with its value from sample_dict\n",
    "    res.update({k: sample_dict[k]})\n",
    "print(res)"
   ]
  },
  {
   "cell_type": "markdown",
   "id": "12236809",
   "metadata": {},
   "source": [
    "Exercise 6: Delete a list of keys from a dictionary"
   ]
  },
  {
   "cell_type": "code",
   "execution_count": 4,
   "id": "9f23b19c",
   "metadata": {},
   "outputs": [],
   "source": [
    "sample_dict = {\n",
    "    \"name\": \"Kelly\",\n",
    "    \"age\": 25,\n",
    "    \"salary\": 8000,\n",
    "    \"city\": \"New york\"\n",
    "}\n",
    "\n",
    "# Keys to remove\n",
    "keys = [\"name\", \"salary\"]"
   ]
  },
  {
   "cell_type": "code",
   "execution_count": 6,
   "id": "b53c881b",
   "metadata": {},
   "outputs": [
    {
     "data": {
      "text/plain": [
       "{'age': 25, 'city': 'New york'}"
      ]
     },
     "execution_count": 6,
     "metadata": {},
     "output_type": "execute_result"
    }
   ],
   "source": [
    "\n",
    "for i in keys:\n",
    "    sample_dict.pop(i)\n",
    "sample_dict"
   ]
  },
  {
   "cell_type": "markdown",
   "id": "885a7ed6",
   "metadata": {},
   "source": [
    "Exercise 7: Check if a value exists in a dictionary"
   ]
  },
  {
   "cell_type": "code",
   "execution_count": 7,
   "id": "44667209",
   "metadata": {},
   "outputs": [
    {
     "data": {
      "text/plain": [
       "[100, 200, 300]"
      ]
     },
     "execution_count": 7,
     "metadata": {},
     "output_type": "execute_result"
    }
   ],
   "source": [
    "sample_dict = {'a': 100, 'b': 200, 'c': 300}\n",
    "l=list(sample_dict.values())\n",
    "l"
   ]
  },
  {
   "cell_type": "code",
   "execution_count": 8,
   "id": "c9dd680e",
   "metadata": {},
   "outputs": [
    {
     "data": {
      "text/plain": [
       "True"
      ]
     },
     "execution_count": 8,
     "metadata": {},
     "output_type": "execute_result"
    }
   ],
   "source": [
    "200 in l"
   ]
  },
  {
   "cell_type": "code",
   "execution_count": 9,
   "id": "8d24d28d",
   "metadata": {},
   "outputs": [
    {
     "name": "stdout",
     "output_type": "stream",
     "text": [
      "200 is present\n"
     ]
    }
   ],
   "source": [
    "if 200 in sample_dict.values():\n",
    "    print(\"200 is present\")"
   ]
  },
  {
   "cell_type": "markdown",
   "id": "e29febba",
   "metadata": {},
   "source": [
    "Exercise 8: Rename key of a dictionary"
   ]
  },
  {
   "cell_type": "code",
   "execution_count": 19,
   "id": "e024450a",
   "metadata": {},
   "outputs": [
    {
     "data": {
      "text/plain": [
       "{'name': 'Kelly', 'age': 25, 'salary': 8000, 'location': 'New york'}"
      ]
     },
     "execution_count": 19,
     "metadata": {},
     "output_type": "execute_result"
    }
   ],
   "source": [
    "sample_dict = {\n",
    "  \"name\": \"Kelly\",\n",
    "  \"age\":25,\n",
    "  \"salary\": 8000,\n",
    "  \"city\": \"New york\"\n",
    "}\n",
    "sample_dict.pop(\"city\")\n",
    "sample_dict[\"location\"]=\"New york\"\n",
    "sample_dict"
   ]
  },
  {
   "cell_type": "markdown",
   "id": "7b019c3d",
   "metadata": {},
   "source": [
    "Exercise 9: Get the key of a minimum value from the following dictionary"
   ]
  },
  {
   "cell_type": "code",
   "execution_count": 25,
   "id": "599247f6",
   "metadata": {},
   "outputs": [
    {
     "data": {
      "text/plain": [
       "'Math'"
      ]
     },
     "execution_count": 25,
     "metadata": {},
     "output_type": "execute_result"
    }
   ],
   "source": [
    "sample_dict = {\n",
    "  'Physics': 82,\n",
    "  'Math': 65,\n",
    "  'history': 75\n",
    "}\n",
    "min(sample_dict, key=sample_dict.get)"
   ]
  },
  {
   "cell_type": "markdown",
   "id": "569c938a",
   "metadata": {},
   "source": [
    "Exercise 10: Change value of a key in a nested dictionary"
   ]
  },
  {
   "cell_type": "code",
   "execution_count": 2,
   "id": "82700f32",
   "metadata": {},
   "outputs": [],
   "source": [
    "sample_dict = {\n",
    "    'emp1': {'name': 'Jhon', 'salary': 7500},\n",
    "    'emp2': {'name': 'Emma', 'salary': 8000},\n",
    "    'emp3': {'name': 'Brad', 'salary': 500}\n",
    "}\n"
   ]
  },
  {
   "cell_type": "code",
   "execution_count": 3,
   "id": "3ff811f9",
   "metadata": {},
   "outputs": [],
   "source": [
    "sample_dict['emp3']['salary']=8500"
   ]
  },
  {
   "cell_type": "code",
   "execution_count": 4,
   "id": "1e79aca0",
   "metadata": {},
   "outputs": [
    {
     "data": {
      "text/plain": [
       "{'emp1': {'name': 'Jhon', 'salary': 7500},\n",
       " 'emp2': {'name': 'Emma', 'salary': 8000},\n",
       " 'emp3': {'name': 'Brad', 'salary': 8500}}"
      ]
     },
     "execution_count": 4,
     "metadata": {},
     "output_type": "execute_result"
    }
   ],
   "source": [
    "sample_dict"
   ]
  },
  {
   "cell_type": "code",
   "execution_count": null,
   "id": "bb9c39fd",
   "metadata": {},
   "outputs": [],
   "source": []
  }
 ],
 "metadata": {
  "kernelspec": {
   "display_name": "Python 3",
   "language": "python",
   "name": "python3"
  },
  "language_info": {
   "codemirror_mode": {
    "name": "ipython",
    "version": 3
   },
   "file_extension": ".py",
   "mimetype": "text/x-python",
   "name": "python",
   "nbconvert_exporter": "python",
   "pygments_lexer": "ipython3",
   "version": "3.8.8"
  }
 },
 "nbformat": 4,
 "nbformat_minor": 5
}
