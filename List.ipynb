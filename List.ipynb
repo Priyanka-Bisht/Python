{
 "cells": [
  {
   "cell_type": "markdown",
   "id": "cedc81d5",
   "metadata": {},
   "source": [
    "# list"
   ]
  },
  {
   "cell_type": "code",
   "execution_count": null,
   "id": "72adfafa",
   "metadata": {},
   "outputs": [],
   "source": [
    "list=[\"priyanka\",\"bisht\",2,3,4]"
   ]
  },
  {
   "cell_type": "code",
   "execution_count": 3,
   "id": "3578ff75",
   "metadata": {
    "scrolled": true
   },
   "outputs": [
    {
     "data": {
      "text/plain": [
       "type"
      ]
     },
     "execution_count": 3,
     "metadata": {},
     "output_type": "execute_result"
    }
   ],
   "source": [
    "type(list)"
   ]
  },
  {
   "cell_type": "code",
   "execution_count": null,
   "id": "3de8f295",
   "metadata": {},
   "outputs": [],
   "source": [
    "sahi hai kya problem ha\n",
    "are type m list show hona chahiye na"
   ]
  },
  {
   "cell_type": "code",
   "execution_count": 7,
   "id": "53238a08",
   "metadata": {},
   "outputs": [
    {
     "ename": "TypeError",
     "evalue": "object of type 'type' has no len()",
     "output_type": "error",
     "traceback": [
      "\u001b[1;31m---------------------------------------------------------------------------\u001b[0m",
      "\u001b[1;31mTypeError\u001b[0m                                 Traceback (most recent call last)",
      "\u001b[1;32m<ipython-input-7-e2d6aaed65ef>\u001b[0m in \u001b[0;36m<module>\u001b[1;34m\u001b[0m\n\u001b[1;32m----> 1\u001b[1;33m \u001b[0mprint\u001b[0m \u001b[1;33m(\u001b[0m\u001b[0mlen\u001b[0m\u001b[1;33m(\u001b[0m\u001b[0mlist\u001b[0m\u001b[1;33m)\u001b[0m\u001b[1;33m)\u001b[0m\u001b[1;33m\u001b[0m\u001b[1;33m\u001b[0m\u001b[0m\n\u001b[0m",
      "\u001b[1;31mTypeError\u001b[0m: object of type 'type' has no len()"
     ]
    }
   ],
   "source": [
    "print (len(list))"
   ]
  },
  {
   "cell_type": "code",
   "execution_count": null,
   "id": "bd2f756e",
   "metadata": {},
   "outputs": [],
   "source": [
    "list = [\"anything\", \"bisht\",1,1,3]"
   ]
  },
  {
   "cell_type": "code",
   "execution_count": 8,
   "id": "dc950e53",
   "metadata": {},
   "outputs": [
    {
     "data": {
      "text/plain": [
       "type"
      ]
     },
     "execution_count": 8,
     "metadata": {},
     "output_type": "execute_result"
    }
   ],
   "source": [
    "type (list)"
   ]
  },
  {
   "cell_type": "code",
   "execution_count": 9,
   "id": "5d0a3520",
   "metadata": {},
   "outputs": [
    {
     "ename": "TypeError",
     "evalue": "type() takes 1 or 3 arguments",
     "output_type": "error",
     "traceback": [
      "\u001b[1;31m---------------------------------------------------------------------------\u001b[0m",
      "\u001b[1;31mTypeError\u001b[0m                                 Traceback (most recent call last)",
      "\u001b[1;32m<ipython-input-9-9fa422968ee5>\u001b[0m in \u001b[0;36m<module>\u001b[1;34m\u001b[0m\n\u001b[0;32m      1\u001b[0m \u001b[0mlist\u001b[0m \u001b[1;33m=\u001b[0m \u001b[1;33m[\u001b[0m\u001b[1;34m\"hello\"\u001b[0m\u001b[1;33m,\u001b[0m \u001b[1;34m\"india\"\u001b[0m\u001b[1;33m]\u001b[0m\u001b[1;33m\u001b[0m\u001b[1;33m\u001b[0m\u001b[0m\n\u001b[1;32m----> 2\u001b[1;33m \u001b[0mtype\u001b[0m \u001b[1;33m(\u001b[0m\u001b[1;33m)\u001b[0m\u001b[1;33m\u001b[0m\u001b[1;33m\u001b[0m\u001b[0m\n\u001b[0m",
      "\u001b[1;31mTypeError\u001b[0m: type() takes 1 or 3 arguments"
     ]
    }
   ],
   "source": [
    "list = [\"hello\", \"india\"]\n",
    "type ()"
   ]
  },
  {
   "cell_type": "code",
   "execution_count": 10,
   "id": "0c27b0da",
   "metadata": {},
   "outputs": [
    {
     "data": {
      "text/plain": [
       "2"
      ]
     },
     "execution_count": 10,
     "metadata": {},
     "output_type": "execute_result"
    }
   ],
   "source": [
    "len(list)"
   ]
  },
  {
   "cell_type": "code",
   "execution_count": 14,
   "id": "1671f7d2",
   "metadata": {},
   "outputs": [
    {
     "data": {
      "text/plain": [
       "['hello', 'india', [4, 8]]"
      ]
     },
     "execution_count": 14,
     "metadata": {},
     "output_type": "execute_result"
    }
   ],
   "source": [
    "list.append([4,8])\n",
    "list"
   ]
  },
  {
   "cell_type": "code",
   "execution_count": 13,
   "id": "b42b02fc",
   "metadata": {},
   "outputs": [
    {
     "data": {
      "text/plain": [
       "['hello', 'india']"
      ]
     },
     "execution_count": 13,
     "metadata": {},
     "output_type": "execute_result"
    }
   ],
   "source": [
    "list"
   ]
  },
  {
   "cell_type": "code",
   "execution_count": 6,
   "id": "00d2b2b6",
   "metadata": {},
   "outputs": [
    {
     "data": {
      "text/plain": [
       "[52, 36, 45]"
      ]
     },
     "execution_count": 6,
     "metadata": {},
     "output_type": "execute_result"
    }
   ],
   "source": [
    "list=[52,36]\n",
    "list.append(45)\n",
    "list"
   ]
  },
  {
   "cell_type": "code",
   "execution_count": 7,
   "id": "a479abca",
   "metadata": {},
   "outputs": [
    {
     "data": {
      "text/plain": [
       "[52, 36, 'pink', 45]"
      ]
     },
     "execution_count": 7,
     "metadata": {},
     "output_type": "execute_result"
    }
   ],
   "source": [
    "list.insert(2,\"pink\")\n",
    "list"
   ]
  },
  {
   "cell_type": "code",
   "execution_count": 8,
   "id": "8778e7f7",
   "metadata": {},
   "outputs": [
    {
     "data": {
      "text/plain": [
       "[52, 36, 'pink', 45, 65, 55, 85]"
      ]
     },
     "execution_count": 8,
     "metadata": {},
     "output_type": "execute_result"
    }
   ],
   "source": [
    "list.extend([65,55,85])\n",
    "list"
   ]
  },
  {
   "cell_type": "code",
   "execution_count": 9,
   "id": "c183d296",
   "metadata": {},
   "outputs": [
    {
     "data": {
      "text/plain": [
       "100.05"
      ]
     },
     "execution_count": 9,
     "metadata": {},
     "output_type": "execute_result"
    }
   ],
   "source": [
    "list=[10,20.05,30,40]\n",
    "sum(list)"
   ]
  },
  {
   "cell_type": "code",
   "execution_count": 10,
   "id": "c92932b5",
   "metadata": {},
   "outputs": [
    {
     "data": {
      "text/plain": [
       "40"
      ]
     },
     "execution_count": 10,
     "metadata": {},
     "output_type": "execute_result"
    }
   ],
   "source": [
    "list.pop()"
   ]
  },
  {
   "cell_type": "code",
   "execution_count": 11,
   "id": "fdc273ca",
   "metadata": {},
   "outputs": [
    {
     "data": {
      "text/plain": [
       "[10, 20.05, 30]"
      ]
     },
     "execution_count": 11,
     "metadata": {},
     "output_type": "execute_result"
    }
   ],
   "source": [
    "list"
   ]
  },
  {
   "cell_type": "markdown",
   "id": "641401b9",
   "metadata": {},
   "source": [
    "# set"
   ]
  },
  {
   "cell_type": "code",
   "execution_count": 18,
   "id": "49205469",
   "metadata": {},
   "outputs": [
    {
     "data": {
      "text/plain": [
       "{1, 2, 3, 4, 5}"
      ]
     },
     "execution_count": 18,
     "metadata": {},
     "output_type": "execute_result"
    }
   ],
   "source": [
    "set_var = {1,2,3,4,5}\n",
    "set_var"
   ]
  },
  {
   "cell_type": "code",
   "execution_count": 20,
   "id": "71e2a1dd",
   "metadata": {},
   "outputs": [
    {
     "name": "stdout",
     "output_type": "stream",
     "text": [
      "{'avarage', 'mean', 'median'}\n"
     ]
    }
   ],
   "source": [
    "set_var = {\"avarage\",\"mean\",\"median\"}\n",
    "print(set_var)\n"
   ]
  },
  {
   "cell_type": "code",
   "execution_count": 21,
   "id": "09bb214e",
   "metadata": {},
   "outputs": [
    {
     "data": {
      "text/plain": [
       "{'avarage', 'mean', 'median', 'mode'}"
      ]
     },
     "execution_count": 21,
     "metadata": {},
     "output_type": "execute_result"
    }
   ],
   "source": [
    "set_var.add(\"mode\")\n",
    "set_var"
   ]
  },
  {
   "cell_type": "code",
   "execution_count": 31,
   "id": "a355b2b5",
   "metadata": {},
   "outputs": [
    {
     "data": {
      "text/plain": [
       "{'english'}"
      ]
     },
     "execution_count": 31,
     "metadata": {},
     "output_type": "execute_result"
    }
   ],
   "source": [
    "set1={\"statistics\",\"math\",\"hindi\"}\n",
    "set2={\"statistics\",\"hindi\",\"math\",\"english\"}\n",
    "set2.difference(set1)\n"
   ]
  },
  {
   "cell_type": "code",
   "execution_count": 36,
   "id": "f7c1d596",
   "metadata": {},
   "outputs": [
    {
     "name": "stdout",
     "output_type": "stream",
     "text": [
      "{'english'}\n"
     ]
    }
   ],
   "source": [
    "set1={\"statistics\",\"math\",\"hindi\"}\n",
    "set2={\"statistics\",\"hindi\",\"math\",\"english\"}\n",
    "set2.difference_update(set1)\n",
    "print(set2)"
   ]
  },
  {
   "cell_type": "markdown",
   "id": "60ddf109",
   "metadata": {},
   "source": [
    "# dict"
   ]
  },
  {
   "cell_type": "code",
   "execution_count": 37,
   "id": "2b623700",
   "metadata": {},
   "outputs": [
    {
     "data": {
      "text/plain": [
       "dict"
      ]
     },
     "execution_count": 37,
     "metadata": {},
     "output_type": "execute_result"
    }
   ],
   "source": [
    "dic={}\n",
    "type(dic)"
   ]
  },
  {
   "cell_type": "code",
   "execution_count": 45,
   "id": "8e343942",
   "metadata": {},
   "outputs": [
    {
     "data": {
      "text/plain": [
       "'independent'"
      ]
     },
     "execution_count": 45,
     "metadata": {},
     "output_type": "execute_result"
    }
   ],
   "source": [
    "dic_var={\"my\":\"priyanka\",\"teacher\":\"vin\",\"aim\":\"independent\"}\n",
    "dic_var['aim']\n"
   ]
  },
  {
   "cell_type": "code",
   "execution_count": 50,
   "id": "9ccda9c7",
   "metadata": {},
   "outputs": [
    {
     "name": "stdout",
     "output_type": "stream",
     "text": [
      "my\n",
      "teacher\n",
      "aim\n"
     ]
    }
   ],
   "source": [
    "for x in dic_var:\n",
    "    print(x)"
   ]
  },
  {
   "cell_type": "code",
   "execution_count": 54,
   "id": "1c39b067",
   "metadata": {},
   "outputs": [
    {
     "name": "stdout",
     "output_type": "stream",
     "text": [
      "priyanka\n",
      "vin\n",
      "independent\n"
     ]
    }
   ],
   "source": [
    "for x in dic_var.values():\n",
    "    print(x)"
   ]
  },
  {
   "cell_type": "code",
   "execution_count": 55,
   "id": "532ad0cd",
   "metadata": {},
   "outputs": [
    {
     "name": "stdout",
     "output_type": "stream",
     "text": [
      "('my', 'priyanka')\n",
      "('teacher', 'vin')\n",
      "('aim', 'independent')\n"
     ]
    }
   ],
   "source": [
    "for x in dic_var.items():\n",
    "    print(x)"
   ]
  },
  {
   "cell_type": "code",
   "execution_count": 56,
   "id": "50b07cd3",
   "metadata": {},
   "outputs": [
    {
     "data": {
      "text/plain": [
       "{'my': 'pink', 'teacher': 'vin', 'aim': 'independent'}"
      ]
     },
     "execution_count": 56,
     "metadata": {},
     "output_type": "execute_result"
    }
   ],
   "source": [
    "dic_var[\"my\"]=\"pink\"\n",
    "dic_var"
   ]
  },
  {
   "cell_type": "code",
   "execution_count": 57,
   "id": "2d5d53e9",
   "metadata": {},
   "outputs": [
    {
     "data": {
      "text/plain": [
       "{'my': 'pink', 'teacher': 'vin', 'aim': 'independent', 'finally': 'marriage'}"
      ]
     },
     "execution_count": 57,
     "metadata": {},
     "output_type": "execute_result"
    }
   ],
   "source": [
    "dic_var[\"finally\"]=\"marriage\"\n",
    "dic_var"
   ]
  },
  {
   "cell_type": "code",
   "execution_count": 2,
   "id": "0afda15e",
   "metadata": {},
   "outputs": [
    {
     "data": {
      "text/plain": [
       "{'my': {'nickname': 'pinku'},\n",
       " 'teacher': {'nickna': 'vinn'},\n",
       " 'aim': {'aim2': 'together'},\n",
       " 'finally': {'finally': 'done'}}"
      ]
     },
     "execution_count": 2,
     "metadata": {},
     "output_type": "execute_result"
    }
   ],
   "source": [
    "dic_var={\"my\":\"priyanka\",\"teacher\":\"vin\",\"aim\":\"independent\",\"finally\":\"marriage\"}\n",
    "dic_var1={\"nickname\":\"pinku\"}\n",
    "dic_var2={\"nickna\":\"vinn\"}\n",
    "dic_var3={\"aim2\":\"together\"}\n",
    "dic_var4={\"finally\":\"done\"}\n",
    "dic_variable={\"my\":dic_var1,\"teacher\":dic_var2,\"aim\":dic_var3,\"finally\":dic_var4}\n",
    "dic_variable"
   ]
  },
  {
   "cell_type": "code",
   "execution_count": 6,
   "id": "9d78ffe1",
   "metadata": {},
   "outputs": [
    {
     "name": "stdout",
     "output_type": "stream",
     "text": [
      "pinku\n"
     ]
    }
   ],
   "source": [
    "print(dic_variable[\"my\"][\"nickname\"])"
   ]
  },
  {
   "cell_type": "markdown",
   "id": "9e8eaeff",
   "metadata": {},
   "source": [
    "# tuple"
   ]
  },
  {
   "cell_type": "code",
   "execution_count": 7,
   "id": "d2900e3c",
   "metadata": {},
   "outputs": [
    {
     "data": {
      "text/plain": [
       "tuple"
      ]
     },
     "execution_count": 7,
     "metadata": {},
     "output_type": "execute_result"
    }
   ],
   "source": [
    "tup=()\n",
    "type(tup)"
   ]
  },
  {
   "cell_type": "code",
   "execution_count": 8,
   "id": "db5ee89f",
   "metadata": {},
   "outputs": [
    {
     "data": {
      "text/plain": [
       "('one', 'two', 'three')"
      ]
     },
     "execution_count": 8,
     "metadata": {},
     "output_type": "execute_result"
    }
   ],
   "source": [
    "tup=(\"one\",\"two\",\"three\")\n",
    "tup"
   ]
  },
  {
   "cell_type": "code",
   "execution_count": 9,
   "id": "9ae98536",
   "metadata": {},
   "outputs": [
    {
     "data": {
      "text/plain": [
       "('Hello', 'World')"
      ]
     },
     "execution_count": 9,
     "metadata": {},
     "output_type": "execute_result"
    }
   ],
   "source": [
    "tup=(\"Hello\",\"World\")\n",
    "tup"
   ]
  },
  {
   "cell_type": "code",
   "execution_count": 12,
   "id": "be5ce37f",
   "metadata": {},
   "outputs": [
    {
     "data": {
      "text/plain": [
       "0"
      ]
     },
     "execution_count": 12,
     "metadata": {},
     "output_type": "execute_result"
    }
   ],
   "source": [
    "tup.count(\"Hello\")\n",
    "tup.index(\"Hello\")"
   ]
  },
  {
   "cell_type": "code",
   "execution_count": 4,
   "id": "e7ba18ee",
   "metadata": {},
   "outputs": [
    {
     "name": "stdout",
     "output_type": "stream",
     "text": [
      "enter the para:jksf hshfsh nfjkhfui jhfuisf\n"
     ]
    }
   ],
   "source": [
    "data=input(\"enter the para:\")\n",
    "l=data.split(\" \")\n",
    "l1=set(l)\n",
    "l2=dict.fromkeys(l1,\"priyanka\")\n",
    "l3=tuple(l2.keys())\n",
    "l4=list(l2.values())"
   ]
  },
  {
   "cell_type": "code",
   "execution_count": 5,
   "id": "85d4202a",
   "metadata": {},
   "outputs": [
    {
     "data": {
      "text/plain": [
       "['jksf', 'hshfsh', 'nfjkhfui', 'jhfuisf']"
      ]
     },
     "execution_count": 5,
     "metadata": {},
     "output_type": "execute_result"
    }
   ],
   "source": [
    "l"
   ]
  },
  {
   "cell_type": "code",
   "execution_count": 1,
   "id": "b08897ae",
   "metadata": {},
   "outputs": [],
   "source": [
    "d = {\"Company\":\"ineuron\",\"Course\":\"full stack data science\",\"batch\":2022}"
   ]
  },
  {
   "cell_type": "code",
   "execution_count": 2,
   "id": "a42ccfc5",
   "metadata": {},
   "outputs": [
    {
     "name": "stdout",
     "output_type": "stream",
     "text": [
      "key : Company ; value : ineuron\n",
      "key : Course ; value : full stack data science\n",
      "key : batch ; value : 2022\n"
     ]
    }
   ],
   "source": [
    "for i in d:\n",
    "    print(\"key :\" , i , \";\" ,\"value :\", d[i])"
   ]
  },
  {
   "cell_type": "code",
   "execution_count": null,
   "id": "6e97956d",
   "metadata": {},
   "outputs": [],
   "source": []
  }
 ],
 "metadata": {
  "kernelspec": {
   "display_name": "Python 3",
   "language": "python",
   "name": "python3"
  },
  "language_info": {
   "codemirror_mode": {
    "name": "ipython",
    "version": 3
   },
   "file_extension": ".py",
   "mimetype": "text/x-python",
   "name": "python",
   "nbconvert_exporter": "python",
   "pygments_lexer": "ipython3",
   "version": "3.8.8"
  }
 },
 "nbformat": 4,
 "nbformat_minor": 5
}
