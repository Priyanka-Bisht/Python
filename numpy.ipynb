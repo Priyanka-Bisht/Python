{
 "cells": [
  {
   "cell_type": "code",
   "execution_count": 1,
   "id": "d6d001f4",
   "metadata": {},
   "outputs": [
    {
     "data": {
      "text/plain": [
       "array([1, 2, 4, 5])"
      ]
     },
     "execution_count": 1,
     "metadata": {},
     "output_type": "execute_result"
    }
   ],
   "source": [
    "import numpy as np\n",
    "\n",
    "arr = [1,2,4,5]\n",
    "arr1=np.array(arr)\n",
    "arr1\n"
   ]
  },
  {
   "cell_type": "code",
   "execution_count": 8,
   "id": "fd7957d3",
   "metadata": {},
   "outputs": [
    {
     "data": {
      "text/plain": [
       "array([[1, 2],\n",
       "       [4, 5]])"
      ]
     },
     "execution_count": 8,
     "metadata": {},
     "output_type": "execute_result"
    }
   ],
   "source": [
    "arr1.reshape(2,2)"
   ]
  },
  {
   "cell_type": "code",
   "execution_count": 14,
   "id": "9212dece",
   "metadata": {},
   "outputs": [
    {
     "data": {
      "text/plain": [
       "array([[ 1,  2,  3,  4],\n",
       "       [ 5,  5,  6,  7],\n",
       "       [ 8,  9, 10, 11]])"
      ]
     },
     "execution_count": 14,
     "metadata": {},
     "output_type": "execute_result"
    }
   ],
   "source": [
    "pink=[1,2,3,4,5,5,6,7,8,9,10,11]\n",
    "pin=np.array(pink)\n",
    "pin.reshape(3,4)"
   ]
  },
  {
   "cell_type": "code",
   "execution_count": 18,
   "id": "0fceb162",
   "metadata": {},
   "outputs": [
    {
     "data": {
      "text/plain": [
       "(12,)"
      ]
     },
     "execution_count": 18,
     "metadata": {},
     "output_type": "execute_result"
    }
   ],
   "source": [
    "pin.shape"
   ]
  },
  {
   "cell_type": "code",
   "execution_count": 20,
   "id": "478ba4e1",
   "metadata": {},
   "outputs": [
    {
     "data": {
      "text/plain": [
       "array([[2, 3, 5, 5],\n",
       "       [5, 8, 9, 4],\n",
       "       [9, 4, 9, 1]])"
      ]
     },
     "execution_count": 20,
     "metadata": {},
     "output_type": "execute_result"
    }
   ],
   "source": [
    "ro1=[2,3,5,5]\n",
    "ro2=[5,8,9,4]\n",
    "ro3=[9,4,9,1]\n",
    "row = np.array([ro1,ro2,ro3])\n",
    "row"
   ]
  },
  {
   "cell_type": "code",
   "execution_count": 39,
   "id": "8be37ff1",
   "metadata": {},
   "outputs": [
    {
     "data": {
      "text/plain": [
       "array([[9, 4],\n",
       "       [9, 1]])"
      ]
     },
     "execution_count": 39,
     "metadata": {},
     "output_type": "execute_result"
    }
   ],
   "source": [
    "row[1:,2:4]"
   ]
  },
  {
   "cell_type": "code",
   "execution_count": 46,
   "id": "91219b0b",
   "metadata": {},
   "outputs": [
    {
     "data": {
      "text/plain": [
       "array([[ 2,  3,  5,  5],\n",
       "       [25, 25, 25, 25],\n",
       "       [50, 50, 50, 50]])"
      ]
     },
     "execution_count": 46,
     "metadata": {},
     "output_type": "execute_result"
    }
   ],
   "source": [
    "row[2:] = 50\n",
    "row"
   ]
  },
  {
   "cell_type": "code",
   "execution_count": 49,
   "id": "79ef31e2",
   "metadata": {},
   "outputs": [
    {
     "data": {
      "text/plain": [
       "array([ 2,  3,  5,  5, 25, 25, 25, 25])"
      ]
     },
     "execution_count": 49,
     "metadata": {},
     "output_type": "execute_result"
    }
   ],
   "source": [
    "row[row<=25]"
   ]
  },
  {
   "cell_type": "code",
   "execution_count": 58,
   "id": "7e8b00ef",
   "metadata": {},
   "outputs": [
    {
     "data": {
      "text/plain": [
       "array([[ 0,  1,  2],\n",
       "       [ 3,  4,  5],\n",
       "       [ 6,  7,  8],\n",
       "       [ 9, 10, 11]])"
      ]
     },
     "execution_count": 58,
     "metadata": {},
     "output_type": "execute_result"
    }
   ],
   "source": [
    "np.arange(0,12).reshape(4,3)"
   ]
  },
  {
   "cell_type": "code",
   "execution_count": 57,
   "id": "fd104384",
   "metadata": {},
   "outputs": [
    {
     "data": {
      "text/plain": [
       "array([[ 0,  1,  2,  3],\n",
       "       [ 4,  5,  6,  7],\n",
       "       [ 8,  9, 10, 11]])"
      ]
     },
     "execution_count": 57,
     "metadata": {},
     "output_type": "execute_result"
    }
   ],
   "source": [
    "vi=np.arange(0,12)\n",
    "pi=vi.reshape(3,4)\n",
    "pi"
   ]
  },
  {
   "cell_type": "code",
   "execution_count": 73,
   "id": "4a27e892",
   "metadata": {},
   "outputs": [
    {
     "data": {
      "text/plain": [
       "array([[ 7, 16],\n",
       "       [27, 40],\n",
       "       [55, 72]])"
      ]
     },
     "execution_count": 73,
     "metadata": {},
     "output_type": "execute_result"
    }
   ],
   "source": [
    "A = np.arange(1,7).reshape(3,2)\n",
    "\n",
    "B = np.arange(7,13).reshape(3,2)\n",
    "A*B"
   ]
  },
  {
   "cell_type": "code",
   "execution_count": 76,
   "id": "d9b1f1c4",
   "metadata": {},
   "outputs": [
    {
     "data": {
      "text/plain": [
       "array([[ 5, 10],\n",
       "       [15, 20],\n",
       "       [25, 30]])"
      ]
     },
     "execution_count": 76,
     "metadata": {},
     "output_type": "execute_result"
    }
   ],
   "source": [
    "A = np.arange(1,7).reshape(3,2)\n",
    "A\n",
    "5*A"
   ]
  },
  {
   "cell_type": "code",
   "execution_count": 86,
   "id": "6cba891d",
   "metadata": {},
   "outputs": [
    {
     "data": {
      "text/plain": [
       "array([[1., 1., 1.],\n",
       "       [1., 1., 1.],\n",
       "       [1., 1., 1.]])"
      ]
     },
     "execution_count": 86,
     "metadata": {},
     "output_type": "execute_result"
    }
   ],
   "source": [
    "np.ones((3,3),dtype=float)"
   ]
  },
  {
   "cell_type": "code",
   "execution_count": 91,
   "id": "fec60985",
   "metadata": {},
   "outputs": [
    {
     "data": {
      "text/plain": [
       "array([42,  7,  3, 20, 40, 62, 45, 37, 99, 85])"
      ]
     },
     "execution_count": 91,
     "metadata": {},
     "output_type": "execute_result"
    }
   ],
   "source": [
    "np.random.randint(0,100,10)"
   ]
  },
  {
   "cell_type": "code",
   "execution_count": 94,
   "id": "7e6dc86a",
   "metadata": {},
   "outputs": [
    {
     "data": {
      "text/plain": [
       "array([[[0.99492151, 0.81341902, 0.06208752],\n",
       "        [0.78809939, 0.25831734, 0.48854167],\n",
       "        [0.28885321, 0.81927455, 0.51573151],\n",
       "        [0.99249607, 0.68994478, 0.16359614]],\n",
       "\n",
       "       [[0.2581053 , 0.69265705, 0.61002001],\n",
       "        [0.68352124, 0.67998949, 0.5407256 ],\n",
       "        [0.07555743, 0.37936475, 0.15266021],\n",
       "        [0.81242115, 0.54737124, 0.56397582]],\n",
       "\n",
       "       [[0.35786975, 0.83196375, 0.95999045],\n",
       "        [0.91544145, 0.421413  , 0.78796408],\n",
       "        [0.94931361, 0.73316552, 0.09293719],\n",
       "        [0.94165089, 0.89020827, 0.45255612]]])"
      ]
     },
     "execution_count": 94,
     "metadata": {},
     "output_type": "execute_result"
    }
   ],
   "source": [
    "np.random.rand(3,4,3)"
   ]
  },
  {
   "cell_type": "code",
   "execution_count": 120,
   "id": "fd496e9d",
   "metadata": {},
   "outputs": [
    {
     "data": {
      "text/plain": [
       "array([[-0.39469487, -0.47469214, -1.34063564,  0.13864767],\n",
       "       [ 0.39071504,  2.05923305,  0.42316045, -1.6792597 ],\n",
       "       [-0.80683731,  0.24882385, -1.3220872 ,  0.87772515],\n",
       "       [-1.12423034, -1.28842103, -0.13143732,  0.53212163]])"
      ]
     },
     "execution_count": 120,
     "metadata": {},
     "output_type": "execute_result"
    }
   ],
   "source": [
    "exam = np.random.randn(4,4)\n",
    "exam"
   ]
  },
  {
   "cell_type": "code",
   "execution_count": 114,
   "id": "3502c31b",
   "metadata": {},
   "outputs": [],
   "source": [
    "import pandas as pd"
   ]
  },
  {
   "cell_type": "code",
   "execution_count": 121,
   "id": "c96966ca",
   "metadata": {},
   "outputs": [
    {
     "name": "stderr",
     "output_type": "stream",
     "text": [
      "C:\\Users\\Dell\\anaconda3\\lib\\site-packages\\seaborn\\distributions.py:2557: FutureWarning: `distplot` is a deprecated function and will be removed in a future version. Please adapt your code to use either `displot` (a figure-level function with similar flexibility) or `histplot` (an axes-level function for histograms).\n",
      "  warnings.warn(msg, FutureWarning)\n"
     ]
    },
    {
     "data": {
      "text/plain": [
       "<AxesSubplot:ylabel='Density'>"
      ]
     },
     "execution_count": 121,
     "metadata": {},
     "output_type": "execute_result"
    },
    {
     "data": {
      "image/png": "[encoded data removed]",
      "text/plain": [
       "<Figure size 432x288 with 1 Axes>"
      ]
     },
     "metadata": {
      "needs_background": "light"
     },
     "output_type": "display_data"
    }
   ],
   "source": [
    "import seaborn as sns\n",
    "sns.distplot(pd.DataFrame(exam.reshape(16,1)))"
   ]
  },
  {
   "cell_type": "code",
   "execution_count": 3,
   "id": "9964db30",
   "metadata": {},
   "outputs": [
    {
     "data": {
      "text/plain": [
       "array(42)"
      ]
     },
     "execution_count": 3,
     "metadata": {},
     "output_type": "execute_result"
    }
   ],
   "source": [
    "arr=np.array(42)\n",
    "arr"
   ]
  },
  {
   "cell_type": "code",
   "execution_count": 4,
   "id": "0106e29e",
   "metadata": {},
   "outputs": [
    {
     "data": {
      "text/plain": [
       "array([[[1, 2, 3],\n",
       "        [4, 5, 6]],\n",
       "\n",
       "       [[1, 2, 3],\n",
       "        [4, 5, 6]]])"
      ]
     },
     "execution_count": 4,
     "metadata": {},
     "output_type": "execute_result"
    }
   ],
   "source": [
    "d = np.array([[[1, 2, 3], [4, 5, 6]], [[1, 2, 3], [4, 5, 6]]])\n",
    "d"
   ]
  },
  {
   "cell_type": "code",
   "execution_count": 6,
   "id": "f0ab23ef",
   "metadata": {},
   "outputs": [
    {
     "name": "stdout",
     "output_type": "stream",
     "text": [
      "[[[[[[[[1 2 3 4]]]]]]]]\n",
      "number of dimensions : 8\n"
     ]
    }
   ],
   "source": [
    "arr = np.array([1, 2, 3, 4], ndmin=8)\n",
    "\n",
    "print(arr)\n",
    "print('number of dimensions :', arr.ndim)"
   ]
  },
  {
   "cell_type": "code",
   "execution_count": 11,
   "id": "16005e1f",
   "metadata": {},
   "outputs": [
    {
     "data": {
      "text/plain": [
       "array([10, 11, 12, 13])"
      ]
     },
     "execution_count": 11,
     "metadata": {},
     "output_type": "execute_result"
    }
   ],
   "source": [
    "p=np.array([1,2,3,4,5])\n",
    "p[2]+p[4]+p[1:]"
   ]
  },
  {
   "cell_type": "code",
   "execution_count": 12,
   "id": "fb896bfa",
   "metadata": {},
   "outputs": [
    {
     "name": "stdout",
     "output_type": "stream",
     "text": [
      "2nd element on 1st row:  2\n"
     ]
    }
   ],
   "source": [
    "arr = np.array([[1,2,3,4,5], [6,7,8,9,10]])\n",
    "\n",
    "print('2nd element on 1st row: ', arr[0, 1])"
   ]
  },
  {
   "cell_type": "code",
   "execution_count": 8,
   "id": "e42ddc96",
   "metadata": {},
   "outputs": [
    {
     "data": {
      "text/plain": [
       "array([[2, 3, 4],\n",
       "       [7, 8, 9]])"
      ]
     },
     "execution_count": 8,
     "metadata": {},
     "output_type": "execute_result"
    }
   ],
   "source": [
    "v= np.array([[1,2,3,4,5],[6,7,8,9,10]])\n",
    "v[0:2,1:4]\n"
   ]
  },
  {
   "cell_type": "code",
   "execution_count": 11,
   "id": "72d633d8",
   "metadata": {},
   "outputs": [
    {
     "data": {
      "text/plain": [
       "array([False,  True,  True])"
      ]
     },
     "execution_count": 11,
     "metadata": {},
     "output_type": "execute_result"
    }
   ],
   "source": [
    "# astype is used to change the dtype from one to another\n",
    "q=np.array([0,1,2])\n",
    "newarr=q.astype(bool) \n",
    "newarr"
   ]
  },
  {
   "cell_type": "code",
   "execution_count": 15,
   "id": "4f8a6aee",
   "metadata": {},
   "outputs": [
    {
     "data": {
      "text/plain": [
       "array([25,  2,  0,  4,  6,  8, 10, 12])"
      ]
     },
     "execution_count": 15,
     "metadata": {},
     "output_type": "execute_result"
    }
   ],
   "source": [
    "# copy and view\n",
    "# The copy SHOULD NOT be affected by the changes made to the original array and The view SHOULD be affected by the changes \n",
    "# made to the original array.\n",
    "\n",
    "arr=np.array([0,2,0,4,6,8,10,12])\n",
    "newarr=arr.copy()\n",
    "newarr[0]=25\n",
    "newarr"
   ]
  },
  {
   "cell_type": "code",
   "execution_count": 4,
   "id": "ee12e5d3",
   "metadata": {},
   "outputs": [
    {
     "data": {
      "text/plain": [
       "array([[[ 1,  2],\n",
       "        [ 3,  4]],\n",
       "\n",
       "       [[ 5,  6],\n",
       "        [ 7,  8]],\n",
       "\n",
       "       [[ 9, 10],\n",
       "        [11, 12]]])"
      ]
     },
     "execution_count": 4,
     "metadata": {},
     "output_type": "execute_result"
    }
   ],
   "source": [
    "arr = np.array([1, 2, 3, 4, 5, 6, 7, 8, 9, 10, 11, 12])\n",
    "newarr=arr.reshape(3,2,2)\n",
    "newarr"
   ]
  },
  {
   "cell_type": "code",
   "execution_count": 3,
   "id": "fe1c21ac",
   "metadata": {},
   "outputs": [
    {
     "name": "stdout",
     "output_type": "stream",
     "text": [
      "1\n",
      "3\n",
      "5\n",
      "7\n"
     ]
    }
   ],
   "source": [
    "arr=np.array([1,3,5,7])\n",
    "for x in arr:\n",
    "    print(x)"
   ]
  },
  {
   "cell_type": "code",
   "execution_count": 6,
   "id": "ddff3dd0",
   "metadata": {},
   "outputs": [
    {
     "name": "stdout",
     "output_type": "stream",
     "text": [
      "[1 2 3]\n",
      "[4 5 6]\n",
      "[1 2 3]\n",
      "[4 5 6]\n",
      "[1 2 3]\n",
      "[4 5 6]\n",
      "[1 2 3]\n",
      "[4 5 6]\n"
     ]
    }
   ],
   "source": [
    "arr=np.array([[1,2,3], [4,5,6]])\n",
    "for x in arr:\n",
    "    for y in arr:\n",
    "        for z in arr:\n",
    "            print(z)\n",
    "#         print(y)"
   ]
  },
  {
   "cell_type": "code",
   "execution_count": 8,
   "id": "0e903486",
   "metadata": {},
   "outputs": [
    {
     "name": "stdout",
     "output_type": "stream",
     "text": [
      "1\n",
      "2\n",
      "3\n",
      "4\n",
      "5\n",
      "6\n",
      "7\n",
      "8\n",
      "9\n",
      "10\n",
      "11\n",
      "12\n"
     ]
    }
   ],
   "source": [
    "arr=np.array([[[1,2,3],[4,5,6]],[[7,8,9],[10,11,12]]])\n",
    "for x in arr:\n",
    "    for y in x:\n",
    "        for z in y:\n",
    "            print(z)"
   ]
  },
  {
   "cell_type": "code",
   "execution_count": 9,
   "id": "142cfba5",
   "metadata": {},
   "outputs": [
    {
     "name": "stdout",
     "output_type": "stream",
     "text": [
      "1\n",
      "2\n",
      "3\n",
      "4\n",
      "5\n",
      "6\n",
      "7\n",
      "8\n",
      "9\n",
      "10\n",
      "11\n",
      "12\n"
     ]
    }
   ],
   "source": [
    "arr=np.array([[[1,2,3],[4,5,6]],[[7,8,9],[10,11,12]]])\n",
    "for x in np.nditer(arr):\n",
    "    print(x)"
   ]
  },
  {
   "cell_type": "code",
   "execution_count": 6,
   "id": "438c3904",
   "metadata": {},
   "outputs": [
    {
     "name": "stdout",
     "output_type": "stream",
     "text": [
      "[[1 2 3 4 5 6]\n",
      " [9 8 7 6 5 4]]\n"
     ]
    }
   ],
   "source": [
    "arr1=np.array([[1,2,3],[9,8,7]])\n",
    "arr2=np.array([[4,5,6],[6,5,4]])\n",
    "arr=np.concatenate((arr1,arr2),axis=1)\n",
    "print(arr)"
   ]
  },
  {
   "cell_type": "code",
   "execution_count": 14,
   "id": "ed56dd0e",
   "metadata": {},
   "outputs": [
    {
     "name": "stdout",
     "output_type": "stream",
     "text": [
      "[[[1 4]\n",
      "  [2 5]\n",
      "  [3 6]]]\n",
      "[1 2 3 4 5 6]\n",
      "[[1 2 3]\n",
      " [4 5 6]]\n"
     ]
    }
   ],
   "source": [
    "arr1=np.array([1,2,3])\n",
    "arr2=np.array([4,5,6])\n",
    "arr=np.dstack((arr1,arr2))\n",
    "arrx=np.hstack((arr1,arr2))\n",
    "arry=np.vstack((arr1,arr2))\n",
    "print(arr)\n",
    "print(arrx)\n",
    "print(arry)"
   ]
  },
  {
   "cell_type": "code",
   "execution_count": 22,
   "id": "46342be6",
   "metadata": {},
   "outputs": [
    {
     "name": "stdout",
     "output_type": "stream",
     "text": [
      "3\n",
      "[array([1, 2]), array([3]), array([4]), array([5]), array([6])]\n"
     ]
    }
   ],
   "source": [
    "arr=np.array([1,2,3,4,5,6])\n",
    "newarr=np.array_split(arr,5)\n",
    "arrnew=np.searchsorted(arr,4)\n",
    "print(arrnew)\n",
    "print(newarr)"
   ]
  },
  {
   "cell_type": "code",
   "execution_count": 18,
   "id": "0271f1ad",
   "metadata": {},
   "outputs": [
    {
     "name": "stdout",
     "output_type": "stream",
     "text": [
      "(array([1, 4, 7, 8], dtype=int64),)\n"
     ]
    }
   ],
   "source": [
    "arr=np.array([1,4,2,3,4,5,6,4,4])\n",
    "arr2=np.where(arr==4)\n",
    "print(arr2)"
   ]
  },
  {
   "cell_type": "code",
   "execution_count": 21,
   "id": "ad4540ef",
   "metadata": {},
   "outputs": [
    {
     "name": "stdout",
     "output_type": "stream",
     "text": [
      "(array([1, 3, 5, 7, 9], dtype=int64),)\n",
      "(array([0, 2, 4, 6, 8], dtype=int64),)\n"
     ]
    }
   ],
   "source": [
    "arr=np.array([1,2,3,4,5,6,7,8,9,10])\n",
    "arr2=np.where(arr%2==0)\n",
    "arr3=np.where(arr%2==1)\n",
    "print(arr2)\n",
    "print(arr3)"
   ]
  },
  {
   "cell_type": "code",
   "execution_count": 23,
   "id": "0b4785ec",
   "metadata": {},
   "outputs": [
    {
     "name": "stdout",
     "output_type": "stream",
     "text": [
      "[1 7 8 9]\n"
     ]
    }
   ],
   "source": [
    "arr=np.array([1,9,7,8])\n",
    "arr4=np.sort(arr)\n",
    "print(arr4)"
   ]
  },
  {
   "cell_type": "code",
   "execution_count": 24,
   "id": "f5e4962d",
   "metadata": {},
   "outputs": [
    {
     "name": "stdout",
     "output_type": "stream",
     "text": [
      "[41 45 47]\n"
     ]
    }
   ],
   "source": [
    "arr=np.array([41,43,45,47])\n",
    "x=[True,False,True,True]\n",
    "newarr=arr[x]\n",
    "print(newarr)"
   ]
  },
  {
   "cell_type": "code",
   "execution_count": 26,
   "id": "046deb3a",
   "metadata": {},
   "outputs": [
    {
     "name": "stdout",
     "output_type": "stream",
     "text": [
      "[False, True, True, True]\n",
      "[52 53 54]\n"
     ]
    }
   ],
   "source": [
    "arr=np.array([51,52,53,54])\n",
    "filter_arr=[]\n",
    "for i in arr:\n",
    "    if i >= 52:\n",
    "        filter_arr.append(True)\n",
    "    else:\n",
    "        filter_arr.append(False)\n",
    "newarr=arr[filter_arr]\n",
    "print(filter_arr)\n",
    "print(newarr)\n",
    "        "
   ]
  },
  {
   "cell_type": "code",
   "execution_count": 14,
   "id": "36442608",
   "metadata": {},
   "outputs": [
    {
     "name": "stdout",
     "output_type": "stream",
     "text": [
      "[0.95672631 0.06526858 0.52079678 0.36319677 0.36836534]\n"
     ]
    }
   ],
   "source": [
    "x=np.random.rand(5)\n",
    "print(x)"
   ]
  },
  {
   "cell_type": "code",
   "execution_count": 13,
   "id": "bfdb424f",
   "metadata": {},
   "outputs": [
    {
     "name": "stdout",
     "output_type": "stream",
     "text": [
      "[[  2 389 286 821 585]\n",
      " [323 236 417  73 212]\n",
      " [456 766 774 143 280]\n",
      " [542 589   4 857 420]]\n"
     ]
    }
   ],
   "source": [
    "x=np.random.randint(900,size=(4,5))\n",
    "print(x)"
   ]
  },
  {
   "cell_type": "code",
   "execution_count": 16,
   "id": "8a40a9b0",
   "metadata": {},
   "outputs": [
    {
     "name": "stdout",
     "output_type": "stream",
     "text": [
      "[[8 6 8 6 8]\n",
      " [2 2 8 8 4]\n",
      " [2 6 8 4 6]]\n"
     ]
    }
   ],
   "source": [
    "x=np.random.choice([2,4,6,8], size=(3,5))\n",
    "print(x)"
   ]
  },
  {
   "cell_type": "code",
   "execution_count": 23,
   "id": "badb548e",
   "metadata": {},
   "outputs": [
    {
     "name": "stdout",
     "output_type": "stream",
     "text": [
      "[3 5 3 3 7 3 7 7 7 5 7 3 7 3 7 3 5 3 3 7 3 7 7 3 3 5 3 5 3 7 7 3 7 3 5 3 3\n",
      " 7 7 3 3 7 3 7 3 7 3 7 7 5 5 7 5 7 3 3 3 3 3 7 5 3 3 3 7 3 3 7 3 5 7 3 3 3\n",
      " 5 7 5 3 7 3 3 7 3 3 3 3 3 3 7 3 3 3 7 5 3 7 3 3 7 3]\n"
     ]
    }
   ],
   "source": [
    "from numpy import random\n",
    "x=random.choice([5,3,7,9] ,p=[0.1,0.6,0.3,0.0],size=(100))\n",
    "print(x)"
   ]
  },
  {
   "cell_type": "code",
   "execution_count": 30,
   "id": "bb2c0cfc",
   "metadata": {},
   "outputs": [
    {
     "name": "stdout",
     "output_type": "stream",
     "text": [
      "[2 5 3 1 4]\n"
     ]
    }
   ],
   "source": [
    "x=np.array([1,2,3,4,5])\n",
    "random.shuffle(x)\n",
    "print(x)\n"
   ]
  },
  {
   "cell_type": "code",
   "execution_count": 36,
   "id": "c35c1b60",
   "metadata": {},
   "outputs": [
    {
     "name": "stdout",
     "output_type": "stream",
     "text": [
      "[6 9 8 1 5 2]\n"
     ]
    }
   ],
   "source": [
    "x=np.array([5,8,9,2,6,1])\n",
    "print(random.permutation(x))"
   ]
  },
  {
   "cell_type": "code",
   "execution_count": 43,
   "id": "c9aeeb21",
   "metadata": {},
   "outputs": [
    {
     "name": "stdout",
     "output_type": "stream",
     "text": [
      "[[ 0.52862996  4.23347578 -4.66475467]\n",
      " [-1.25916552  0.12239737 -0.44182967]]\n"
     ]
    }
   ],
   "source": [
    "x=random.normal(loc=1,scale=2,size=(2,3))\n",
    "print(x)"
   ]
  },
  {
   "cell_type": "code",
   "execution_count": null,
   "id": "070d8c14",
   "metadata": {},
   "outputs": [],
   "source": []
  },
  {
   "cell_type": "code",
   "execution_count": null,
   "id": "b1a7da1a",
   "metadata": {},
   "outputs": [],
   "source": []
  },
  {
   "cell_type": "code",
   "execution_count": null,
   "id": "96586ddd",
   "metadata": {},
   "outputs": [],
   "source": []
  },
  {
   "cell_type": "code",
   "execution_count": null,
   "id": "4a6d2ffe",
   "metadata": {},
   "outputs": [],
   "source": []
  },
  {
   "cell_type": "code",
   "execution_count": null,
   "id": "ca6f2ba9",
   "metadata": {},
   "outputs": [],
   "source": []
  }
 ],
 "metadata": {
  "kernelspec": {
   "display_name": "Python 3",
   "language": "python",
   "name": "python3"
  },
  "language_info": {
   "codemirror_mode": {
    "name": "ipython",
    "version": 3
   },
   "file_extension": ".py",
   "mimetype": "text/x-python",
   "name": "python",
   "nbconvert_exporter": "python",
   "pygments_lexer": "ipython3",
   "version": "3.8.8"
  }
 },
 "nbformat": 4,
 "nbformat_minor": 5
}
