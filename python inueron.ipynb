{
 "cells": [
  {
   "cell_type": "code",
   "execution_count": 1,
   "id": "e00d20c9",
   "metadata": {},
   "outputs": [
    {
     "data": {
      "text/plain": [
       "'setksj\\nkllgkjlk\\nlkdjlkd\\nkld'"
      ]
     },
     "execution_count": 1,
     "metadata": {},
     "output_type": "execute_result"
    }
   ],
   "source": [
    "# This is my commit from here\n",
    "\"\"\"setksj\n",
    "kllgkjlk\n",
    "lkdjlkd\n",
    "kld\"\"\""
   ]
  },
  {
   "cell_type": "code",
   "execution_count": 2,
   "id": "36191c11",
   "metadata": {},
   "outputs": [],
   "source": [
    "a=45\n",
    "b='priyanka'"
   ]
  },
  {
   "cell_type": "code",
   "execution_count": null,
   "id": "b752ca34",
   "metadata": {},
   "outputs": [],
   "source": [
    "a,b,c=85,'pinku','yes!i did it'"
   ]
  },
  {
   "cell_type": "code",
   "execution_count": 3,
   "id": "89e3dc3f",
   "metadata": {},
   "outputs": [
    {
     "data": {
      "text/plain": [
       "45"
      ]
     },
     "execution_count": 3,
     "metadata": {},
     "output_type": "execute_result"
    }
   ],
   "source": [
    "a"
   ]
  },
  {
   "cell_type": "code",
   "execution_count": 4,
   "id": "2fa9fb7d",
   "metadata": {},
   "outputs": [
    {
     "data": {
      "text/plain": [
       "str"
      ]
     },
     "execution_count": 4,
     "metadata": {},
     "output_type": "execute_result"
    }
   ],
   "source": [
    "type(b)"
   ]
  },
  {
   "cell_type": "code",
   "execution_count": 7,
   "id": "25f1fe24",
   "metadata": {},
   "outputs": [],
   "source": [
    "_r=45"
   ]
  },
  {
   "cell_type": "code",
   "execution_count": 8,
   "id": "3f5acba5",
   "metadata": {},
   "outputs": [
    {
     "name": "stdout",
     "output_type": "stream",
     "text": [
      "4\n",
      "0\n"
     ]
    }
   ],
   "source": [
    "print(True+True+True+False+True)\n",
    "print(False-True+True)"
   ]
  },
  {
   "cell_type": "code",
   "execution_count": 10,
   "id": "3312cbfb",
   "metadata": {},
   "outputs": [
    {
     "ename": "ZeroDivisionError",
     "evalue": "division by zero",
     "output_type": "error",
     "traceback": [
      "\u001b[1;31m---------------------------------------------------------------------------\u001b[0m",
      "\u001b[1;31mZeroDivisionError\u001b[0m                         Traceback (most recent call last)",
      "\u001b[1;32m<ipython-input-10-24f33ef27ce1>\u001b[0m in \u001b[0;36m<module>\u001b[1;34m\u001b[0m\n\u001b[1;32m----> 1\u001b[1;33m \u001b[0mprint\u001b[0m\u001b[1;33m(\u001b[0m\u001b[1;32mTrue\u001b[0m\u001b[1;33m/\u001b[0m\u001b[1;32mFalse\u001b[0m\u001b[1;33m)\u001b[0m\u001b[1;33m\u001b[0m\u001b[1;33m\u001b[0m\u001b[0m\n\u001b[0m",
      "\u001b[1;31mZeroDivisionError\u001b[0m: division by zero"
     ]
    }
   ],
   "source": [
    "print(True/False)"
   ]
  },
  {
   "cell_type": "code",
   "execution_count": 17,
   "id": "efa0bd30",
   "metadata": {},
   "outputs": [
    {
     "data": {
      "text/plain": [
       "complex"
      ]
     },
     "execution_count": 17,
     "metadata": {},
     "output_type": "execute_result"
    }
   ],
   "source": [
    "n=45+5j\n",
    "m=85-2j\n",
    "type(n)"
   ]
  },
  {
   "cell_type": "code",
   "execution_count": 18,
   "id": "4870b949",
   "metadata": {},
   "outputs": [
    {
     "data": {
      "text/plain": [
       "45.0"
      ]
     },
     "execution_count": 18,
     "metadata": {},
     "output_type": "execute_result"
    }
   ],
   "source": [
    "n.real"
   ]
  },
  {
   "cell_type": "code",
   "execution_count": 19,
   "id": "8f0fcb5e",
   "metadata": {},
   "outputs": [
    {
     "data": {
      "text/plain": [
       "(3835+335j)"
      ]
     },
     "execution_count": 19,
     "metadata": {},
     "output_type": "execute_result"
    }
   ],
   "source": [
    "n*m"
   ]
  },
  {
   "cell_type": "code",
   "execution_count": 20,
   "id": "cf6b0e9e",
   "metadata": {},
   "outputs": [
    {
     "ename": "TypeError",
     "evalue": "unsupported operand type(s) for +: 'int' and 'str'",
     "output_type": "error",
     "traceback": [
      "\u001b[1;31m---------------------------------------------------------------------------\u001b[0m",
      "\u001b[1;31mTypeError\u001b[0m                                 Traceback (most recent call last)",
      "\u001b[1;32m<ipython-input-20-17335216ee97>\u001b[0m in \u001b[0;36m<module>\u001b[1;34m\u001b[0m\n\u001b[1;32m----> 1\u001b[1;33m \u001b[1;36m1\u001b[0m\u001b[1;33m+\u001b[0m\u001b[1;34m'pimk'\u001b[0m\u001b[1;33m\u001b[0m\u001b[1;33m\u001b[0m\u001b[0m\n\u001b[0m",
      "\u001b[1;31mTypeError\u001b[0m: unsupported operand type(s) for +: 'int' and 'str'"
     ]
    }
   ],
   "source": [
    "1+'pimk'"
   ]
  },
  {
   "cell_type": "code",
   "execution_count": 21,
   "id": "b6d0998b",
   "metadata": {},
   "outputs": [
    {
     "data": {
      "text/plain": [
       "'1pink'"
      ]
     },
     "execution_count": 21,
     "metadata": {},
     "output_type": "execute_result"
    }
   ],
   "source": [
    "str(1)+'pink'"
   ]
  },
  {
   "cell_type": "code",
   "execution_count": 22,
   "id": "bd28759b",
   "metadata": {},
   "outputs": [
    {
     "data": {
      "text/plain": [
       "'pinkpinkpink'"
      ]
     },
     "execution_count": 22,
     "metadata": {},
     "output_type": "execute_result"
    }
   ],
   "source": [
    "'pink'+'pink'+'pink'\n",
    "'pink'*3"
   ]
  },
  {
   "cell_type": "code",
   "execution_count": 37,
   "id": "77fc0539",
   "metadata": {},
   "outputs": [
    {
     "name": "stdout",
     "output_type": "stream",
     "text": [
      "enter the value for a= 85\n",
      "enter the value for b = 55\n",
      "enter the value for c = 5\n"
     ]
    }
   ],
   "source": [
    "a = int(input(\"enter the value for a= \"))\n",
    "b = int(input(\"enter the value for b = \"))\n",
    "c = int(input(\"enter the value for c = \"))\n"
   ]
  },
  {
   "cell_type": "code",
   "execution_count": 41,
   "id": "ed4e4e2c",
   "metadata": {},
   "outputs": [],
   "source": [
    "o= a+b/c"
   ]
  },
  {
   "cell_type": "code",
   "execution_count": 42,
   "id": "12f26195",
   "metadata": {},
   "outputs": [
    {
     "data": {
      "text/plain": [
       "float"
      ]
     },
     "execution_count": 42,
     "metadata": {},
     "output_type": "execute_result"
    }
   ],
   "source": [
    "type(o)"
   ]
  },
  {
   "cell_type": "code",
   "execution_count": 43,
   "id": "a17b5db3",
   "metadata": {},
   "outputs": [
    {
     "data": {
      "text/plain": [
       "'96.0priyanka'"
      ]
     },
     "execution_count": 43,
     "metadata": {},
     "output_type": "execute_result"
    }
   ],
   "source": [
    "str(o)+'priyanka'"
   ]
  },
  {
   "cell_type": "code",
   "execution_count": 46,
   "id": "25c4ee3a",
   "metadata": {},
   "outputs": [
    {
     "name": "stdout",
     "output_type": "stream",
     "text": [
      "input a  no less than 45 =85\n",
      "it is not valid\n"
     ]
    }
   ],
   "source": [
    "a = int(input(\"input a  no less than 45 =\"))\n",
    "# if a < 45:\n",
    "#     pass\n",
    "if a < 45:\n",
    "    print('You did it')\n",
    "else:\n",
    "    print('it is not valid')"
   ]
  },
  {
   "cell_type": "code",
   "execution_count": 52,
   "id": "74f99ba6",
   "metadata": {},
   "outputs": [
    {
     "name": "stdout",
     "output_type": "stream",
     "text": [
      "enter your salary\n",
      "100056\n",
      "your salary is good\n",
      "it is good\n"
     ]
    }
   ],
   "source": [
    "salary = int(input('enter your salary\\n'))\n",
    "if salary > 1000:\n",
    "    print (\"your salary is good\")\n",
    "    if salary > 5000 and salary <=10000:\n",
    "        print (\"exellent\")\n",
    "        if True:\n",
    "            print (\"false code\")\n",
    "    elif salary > 10000:\n",
    "        print (\"it is good\")\n",
    "    else:\n",
    "        print (\"i will bur Frari\")\n",
    "elif salary > 500:\n",
    "    print (\"i will buy a bike\")\n",
    "elif salary > 100:\n",
    "    print(\"i will not buy anthing\")\n",
    "else:\n",
    "    print(\"i will study hard! and will buy lugrurious things.\")\n",
    "    "
   ]
  },
  {
   "cell_type": "code",
   "execution_count": 53,
   "id": "cf925aa1",
   "metadata": {},
   "outputs": [
    {
     "name": "stdout",
     "output_type": "stream",
     "text": [
      "false\n"
     ]
    }
   ],
   "source": [
    "a = 10\n",
    "b = 20\n",
    "\n",
    "if a == 10 and b > 20:\n",
    "    print('true')\n",
    "elif a == 10 and b < 20 :\n",
    "    print('okay')\n",
    "else:\n",
    "    print('false')"
   ]
  },
  {
   "cell_type": "code",
   "execution_count": 60,
   "id": "d5b90ada",
   "metadata": {},
   "outputs": [
    {
     "name": "stdout",
     "output_type": "stream",
     "text": [
      "Enter your first name: Priynka\n",
      "Enter your second name: bisht\n",
      "Correct\n"
     ]
    }
   ],
   "source": [
    "p=input(\"Enter your first name: \")\n",
    "q=input(\"Enter your second name: \")\n",
    "if p==\"Priynka\" and q==\"bisht\":\n",
    "    print(\"Correct\")\n",
    "else :\n",
    "    print(\"Try once again\")"
   ]
  },
  {
   "cell_type": "code",
   "execution_count": 2,
   "id": "d31b7330",
   "metadata": {},
   "outputs": [
    {
     "name": "stdout",
     "output_type": "stream",
     "text": [
      "This is my speed\n",
      "This is my speed\n",
      "This is my speed\n",
      "This is my speed\n",
      "This is my speed\n",
      "This is my speed\n",
      "This is my speed\n",
      "This is my speed\n",
      "This is my speed\n"
     ]
    }
   ],
   "source": [
    "initial_speed = 0\n",
    "final_speed = 100\n",
    "count = 1\n",
    "while initial_speed <  final_speed:\n",
    "    print(\"This is my speed\")\n",
    "    count = count + 1\n",
    "    if count==10:\n",
    "        break"
   ]
  },
  {
   "cell_type": "code",
   "execution_count": 4,
   "id": "1012bda3",
   "metadata": {},
   "outputs": [
    {
     "name": "stdout",
     "output_type": "stream",
     "text": [
      "1\n",
      "2\n",
      "3\n",
      "4\n",
      "no  , it's not available\n"
     ]
    }
   ],
   "source": [
    "choco = 5\n",
    "i = 1\n",
    "while i < choco:\n",
    "    print(i)\n",
    "    i += 1\n",
    "    \n",
    "else:\n",
    "    print(\"no  , it's not available\")"
   ]
  },
  {
   "cell_type": "code",
   "execution_count": 5,
   "id": "940d620e",
   "metadata": {},
   "outputs": [
    {
     "data": {
      "text/plain": [
       "'n'"
      ]
     },
     "execution_count": 5,
     "metadata": {},
     "output_type": "execute_result"
    }
   ],
   "source": [
    "p=\"pink\"\n",
    "p[2]"
   ]
  },
  {
   "cell_type": "code",
   "execution_count": 11,
   "id": "6a68e629",
   "metadata": {},
   "outputs": [
    {
     "name": "stdout",
     "output_type": "stream",
     "text": [
      " si eman\n",
      " name is pri\n"
     ]
    }
   ],
   "source": [
    "p = \"my name is priyanka\"\n",
    "print(p[10:2:-1])\n",
    "print(p[2:-5])"
   ]
  },
  {
   "cell_type": "code",
   "execution_count": 14,
   "id": "571f754e",
   "metadata": {},
   "outputs": [
    {
     "name": "stdout",
     "output_type": "stream",
     "text": [
      "m\n",
      "y\n",
      " \n",
      "n\n",
      "I found a\n",
      "a\n",
      "m\n",
      "e\n",
      " \n",
      "i\n",
      "s\n",
      " \n",
      "p\n",
      "r\n",
      "i\n",
      "y\n",
      "I found a\n",
      "a\n",
      "n\n",
      "k\n",
      "I found a\n",
      "a\n"
     ]
    }
   ],
   "source": [
    "for i in p:\n",
    "    if i == 'a':\n",
    "        print(\"I found a\")\n",
    "        \n",
    "    print(i)"
   ]
  },
  {
   "cell_type": "code",
   "execution_count": 20,
   "id": "6d1d07f6",
   "metadata": {},
   "outputs": [
    {
     "name": "stdout",
     "output_type": "stream",
     "text": [
      "m\n",
      "y\n",
      " \n"
     ]
    }
   ],
   "source": [
    "for i in p:\n",
    "    if i == \"n\":\n",
    "#         continue\n",
    "        break\n",
    "    print(i)\n",
    "else:\n",
    "    print(\"nothing\")"
   ]
  },
  {
   "cell_type": "code",
   "execution_count": 24,
   "id": "8e901f4d",
   "metadata": {},
   "outputs": [],
   "source": [
    "s = \"ineuron\"\n",
    "ss = \"\"\n",
    "for i in range(len(s)):\n",
    "    if s[i] == \"n\":\n",
    "        continue\n",
    "    else:\n",
    "        ss = ss + s[i]"
   ]
  },
  {
   "cell_type": "code",
   "execution_count": 25,
   "id": "564d1319",
   "metadata": {},
   "outputs": [
    {
     "data": {
      "text/plain": [
       "'ieuro'"
      ]
     },
     "execution_count": 25,
     "metadata": {},
     "output_type": "execute_result"
    }
   ],
   "source": [
    "ss"
   ]
  },
  {
   "cell_type": "code",
   "execution_count": 52,
   "id": "8bb02b46",
   "metadata": {},
   "outputs": [
    {
     "name": "stdout",
     "output_type": "stream",
     "text": [
      "+\n",
      "++\n",
      "+++\n",
      "++++\n",
      "+++++\n",
      "++++++\n",
      "+++++++\n",
      "++++++++\n"
     ]
    }
   ],
   "source": [
    "n = 8\n",
    "for i in range(0,n):\n",
    "    for j in range(0,i+1):\n",
    "        print(\"+\" , end=\"\")\n",
    "    print()"
   ]
  },
  {
   "cell_type": "code",
   "execution_count": 49,
   "id": "a62334e6",
   "metadata": {},
   "outputs": [
    {
     "name": "stdout",
     "output_type": "stream",
     "text": [
      "ENTER THE NO:5\n",
      "----\n",
      "---\n",
      "--\n",
      "-\n",
      "\n"
     ]
    }
   ],
   "source": [
    "p=int(input(\"ENTER THE NO:\"))\n",
    "for i in range(p,0,-1):\n",
    "    for j in range(p-i):\n",
    "        print('',end='')\n",
    "    for j in range(i-1):\n",
    "        print('-',end='')\n",
    "    print()"
   ]
  },
  {
   "cell_type": "code",
   "execution_count": 54,
   "id": "ae83d9a1",
   "metadata": {},
   "outputs": [
    {
     "name": "stdout",
     "output_type": "stream",
     "text": [
      ".\n",
      "...\n",
      ".....\n",
      ".......\n",
      ".........\n",
      "...........\n",
      ".............\n",
      "...............\n"
     ]
    }
   ],
   "source": [
    "p = 9\n",
    "for i in range(0,n):\n",
    "    for j in range(0,2*i+1):\n",
    "        print('.',end='')\n",
    "    print()"
   ]
  },
  {
   "cell_type": "code",
   "execution_count": 2,
   "id": "a0a6c484",
   "metadata": {},
   "outputs": [
    {
     "name": "stdout",
     "output_type": "stream",
     "text": [
      "*\n",
      "*\n",
      "*\n",
      "*\n"
     ]
    }
   ],
   "source": [
    "n = 9\n",
    "i = 0\n",
    "while i < n:\n",
    "    if i <= 9:\n",
    "        i=2*i+1\n",
    "        print('*',end='')\n",
    "    print()\n",
    "    "
   ]
  },
  {
   "cell_type": "markdown",
   "id": "8fb95ff4",
   "metadata": {},
   "source": [
    "# Range"
   ]
  },
  {
   "cell_type": "markdown",
   "id": "2c37f79f",
   "metadata": {},
   "source": [
    "# it works exactly as 'STRING'\n",
    "\n",
    "\n"
   ]
  },
  {
   "cell_type": "code",
   "execution_count": 6,
   "id": "8c1cdfc4",
   "metadata": {},
   "outputs": [
    {
     "name": "stdout",
     "output_type": "stream",
     "text": [
      "8\n",
      "7\n",
      "6\n",
      "5\n"
     ]
    }
   ],
   "source": [
    "for i in range(8,4,-1):\n",
    "    print(i)"
   ]
  },
  {
   "cell_type": "code",
   "execution_count": 7,
   "id": "d4c423f9",
   "metadata": {},
   "outputs": [
    {
     "name": "stdout",
     "output_type": "stream",
     "text": [
      "4\n",
      "5\n",
      "6\n",
      "7\n"
     ]
    }
   ],
   "source": [
    "for i in range(4,8):\n",
    "    print(i)"
   ]
  },
  {
   "cell_type": "code",
   "execution_count": 8,
   "id": "7ecfc773",
   "metadata": {},
   "outputs": [
    {
     "name": "stdout",
     "output_type": "stream",
     "text": [
      "0\n",
      "2\n",
      "4\n",
      "6\n",
      "8\n",
      "10\n",
      "12\n",
      "14\n",
      "16\n",
      "18\n"
     ]
    }
   ],
   "source": [
    "for i in range(0,20,2):\n",
    "    print(i)"
   ]
  },
  {
   "cell_type": "code",
   "execution_count": 9,
   "id": "993c7c85",
   "metadata": {},
   "outputs": [
    {
     "name": "stdout",
     "output_type": "stream",
     "text": [
      "        *\n",
      "       **\n",
      "      ***\n",
      "     ****\n",
      "    *****\n",
      "   ******\n",
      "  *******\n",
      " ********\n",
      "*********\n"
     ]
    }
   ],
   "source": [
    "n = 9\n",
    "i = 0\n",
    "while i < n:\n",
    "    print(' '*(n-i-1) + '*'*(i + 1))\n",
    "    i += 1"
   ]
  },
  {
   "cell_type": "markdown",
   "id": "3dd1ad02",
   "metadata": {},
   "source": [
    "# String and list manipulation"
   ]
  },
  {
   "cell_type": "code",
   "execution_count": 1,
   "id": "82403d68",
   "metadata": {},
   "outputs": [
    {
     "ename": "SyntaxError",
     "evalue": "invalid syntax (<ipython-input-1-5f5639b14881>, line 1)",
     "output_type": "error",
     "traceback": [
      "\u001b[1;36m  File \u001b[1;32m\"<ipython-input-1-5f5639b14881>\"\u001b[1;36m, line \u001b[1;32m1\u001b[0m\n\u001b[1;33m    c = \"hey World what\"are you doing\"\u001b[0m\n\u001b[1;37m                        ^\u001b[0m\n\u001b[1;31mSyntaxError\u001b[0m\u001b[1;31m:\u001b[0m invalid syntax\n"
     ]
    }
   ],
   "source": [
    "c = \"hey World what\"re you doing\""
   ]
  },
  {
   "cell_type": "code",
   "execution_count": 3,
   "id": "a88c08dd",
   "metadata": {},
   "outputs": [
    {
     "data": {
      "text/plain": [
       "\"hey World what're you doing\""
      ]
     },
     "execution_count": 3,
     "metadata": {},
     "output_type": "execute_result"
    }
   ],
   "source": [
    "c = \"hey World what're you doing\"\n",
    "c"
   ]
  },
  {
   "cell_type": "code",
   "execution_count": 4,
   "id": "693fc911",
   "metadata": {},
   "outputs": [
    {
     "data": {
      "text/plain": [
       "'hey World what\"are you doing'"
      ]
     },
     "execution_count": 4,
     "metadata": {},
     "output_type": "execute_result"
    }
   ],
   "source": [
    "c = 'hey World what\"are you doing'\n",
    "c"
   ]
  },
  {
   "cell_type": "code",
   "execution_count": 3,
   "id": "1f5c8541",
   "metadata": {},
   "outputs": [
    {
     "name": "stdout",
     "output_type": "stream",
     "text": [
      "1\n",
      "2\n",
      "3\n",
      "4\n",
      "1\n",
      "2\n",
      "NOTHING\n"
     ]
    }
   ],
   "source": [
    "notes = 5\n",
    "i = 1\n",
    "j = 1\n",
    "while i < 5:\n",
    "    print(i)\n",
    "    i += 1\n",
    "else:\n",
    "    while j <3 :\n",
    "        print(j)\n",
    "        j += 1\n",
    "    print(\"NOTHING\")"
   ]
  },
  {
   "cell_type": "code",
   "execution_count": 4,
   "id": "ba9aaaf3",
   "metadata": {},
   "outputs": [
    {
     "data": {
      "text/plain": [
       "'pinkvink'"
      ]
     },
     "execution_count": 4,
     "metadata": {},
     "output_type": "execute_result"
    }
   ],
   "source": [
    "\"pink\" + \"vink\""
   ]
  },
  {
   "cell_type": "code",
   "execution_count": 7,
   "id": "c2990ad4",
   "metadata": {},
   "outputs": [
    {
     "data": {
      "text/plain": [
       "'pink pink vin vin '"
      ]
     },
     "execution_count": 7,
     "metadata": {},
     "output_type": "execute_result"
    }
   ],
   "source": [
    "\"pink \" * 2 + \"vin \" * 2"
   ]
  },
  {
   "cell_type": "code",
   "execution_count": 8,
   "id": "87da96d6",
   "metadata": {},
   "outputs": [],
   "source": [
    "p = \"my name is priyanka\""
   ]
  },
  {
   "cell_type": "code",
   "execution_count": 12,
   "id": "ce01b79c",
   "metadata": {},
   "outputs": [
    {
     "name": "stdout",
     "output_type": "stream",
     "text": [
      "3\n",
      "4\n",
      "5\n",
      "6\n"
     ]
    }
   ],
   "source": [
    "v = p.find(\"name\")\n",
    "for i in range(len(\"name\")):\n",
    "    print(v + i)"
   ]
  },
  {
   "cell_type": "code",
   "execution_count": 13,
   "id": "1a354c79",
   "metadata": {},
   "outputs": [
    {
     "data": {
      "text/plain": [
       "['my ', 'ame is priya', 'ka']"
      ]
     },
     "execution_count": 13,
     "metadata": {},
     "output_type": "execute_result"
    }
   ],
   "source": [
    "p.split('n')"
   ]
  },
  {
   "cell_type": "code",
   "execution_count": 14,
   "id": "05c24d49",
   "metadata": {},
   "outputs": [
    {
     "data": {
      "text/plain": [
       "'MY NAME IS PRIYANKA'"
      ]
     },
     "execution_count": 14,
     "metadata": {},
     "output_type": "execute_result"
    }
   ],
   "source": [
    "p.upper()"
   ]
  },
  {
   "cell_type": "code",
   "execution_count": 16,
   "id": "ea8d0b0d",
   "metadata": {},
   "outputs": [
    {
     "data": {
      "text/plain": [
       "'MY NAME IS PRIYANKA'"
      ]
     },
     "execution_count": 16,
     "metadata": {},
     "output_type": "execute_result"
    }
   ],
   "source": [
    "p.swapcase()"
   ]
  },
  {
   "cell_type": "code",
   "execution_count": 19,
   "id": "81625c07",
   "metadata": {},
   "outputs": [
    {
     "data": {
      "text/plain": [
       "'****pink****'"
      ]
     },
     "execution_count": 19,
     "metadata": {},
     "output_type": "execute_result"
    }
   ],
   "source": [
    "p = \"pink\"\n",
    "p.center(12 , '*')"
   ]
  },
  {
   "cell_type": "code",
   "execution_count": 21,
   "id": "1c1e0829",
   "metadata": {},
   "outputs": [],
   "source": [
    "a= \"WE ALL ARE A PART OF FULL STACK \"\n"
   ]
  },
  {
   "cell_type": "code",
   "execution_count": 22,
   "id": "b3dc0522",
   "metadata": {},
   "outputs": [
    {
     "data": {
      "text/plain": [
       "'we all are a part of full stack '"
      ]
     },
     "execution_count": 22,
     "metadata": {},
     "output_type": "execute_result"
    }
   ],
   "source": [
    "a.lower()"
   ]
  },
  {
   "cell_type": "code",
   "execution_count": 24,
   "id": "bf8e1449",
   "metadata": {},
   "outputs": [
    {
     "data": {
      "text/plain": [
       "5"
      ]
     },
     "execution_count": 24,
     "metadata": {},
     "output_type": "execute_result"
    }
   ],
   "source": [
    "a.count('A')"
   ]
  },
  {
   "cell_type": "code",
   "execution_count": 29,
   "id": "ae02d7e7",
   "metadata": {},
   "outputs": [
    {
     "name": "stdout",
     "output_type": "stream",
     "text": [
      "3\n",
      "7\n",
      "11\n",
      "14\n",
      "28\n"
     ]
    }
   ],
   "source": [
    "for i in range(len(a)):\n",
    "    if (a[i]==\"A\"):\n",
    "        print(i)\n",
    "    "
   ]
  },
  {
   "cell_type": "code",
   "execution_count": 31,
   "id": "09f01f03",
   "metadata": {},
   "outputs": [
    {
     "data": {
      "text/plain": [
       "'WE ineuronLL ineuronRE ineuron PineuronRT OF FULL STineuronCK '"
      ]
     },
     "execution_count": 31,
     "metadata": {},
     "output_type": "execute_result"
    }
   ],
   "source": [
    "a.replace('A' , 'ineuron')"
   ]
  },
  {
   "cell_type": "code",
   "execution_count": 32,
   "id": "c9c32391",
   "metadata": {},
   "outputs": [
    {
     "data": {
      "text/plain": [
       "['WE', 'ALL', 'ARE', 'A', 'PART', 'OF', 'FULL', 'STACK']"
      ]
     },
     "execution_count": 32,
     "metadata": {},
     "output_type": "execute_result"
    }
   ],
   "source": [
    "a.split()"
   ]
  },
  {
   "cell_type": "code",
   "execution_count": 33,
   "id": "7af481ce",
   "metadata": {},
   "outputs": [
    {
     "name": "stdout",
     "output_type": "stream",
     "text": [
      "Enter a data for which you would like to check pelindrom 2002\n",
      "it's a same\n"
     ]
    }
   ],
   "source": [
    "s = input(\"Enter a data for which you would like to check pelindrom \")\n",
    "s1 = s[::-1]\n",
    "if s == s1:\n",
    "    print(\"it's a same\")\n",
    "else:\n",
    "    print(\"it's not same\")"
   ]
  },
  {
   "cell_type": "markdown",
   "id": "b5785101",
   "metadata": {},
   "source": [
    "# List Manipulation"
   ]
  },
  {
   "cell_type": "code",
   "execution_count": 4,
   "id": "b56d63e7",
   "metadata": {},
   "outputs": [
    {
     "name": "stdout",
     "output_type": "stream",
     "text": [
      "vinnu\n",
      "52\n",
      "2.0\n",
      "8410\n",
      "[45, 15, 'pink']\n",
      "True\n"
     ]
    }
   ],
   "source": [
    "l=[\"vinnu\",52,2.0,8410,[45,15,\"pink\"],True]\n",
    "for i in l:\n",
    "    print(i)"
   ]
  },
  {
   "cell_type": "code",
   "execution_count": 8,
   "id": "23aeabd0",
   "metadata": {},
   "outputs": [
    {
     "name": "stdout",
     "output_type": "stream",
     "text": [
      "no this element is not a list vinnu\n",
      "no this element is not a list 52\n",
      "no this element is not a list 2.0\n",
      "no this element is not a list 8410\n",
      "[45, 15, 'pink']\n",
      "no this element is not a list True\n"
     ]
    }
   ],
   "source": [
    "for i in l:\n",
    "    if type(i)==list:\n",
    "        print(i)\n",
    "    else:\n",
    "        print(\"no this element is not a list\", i)\n",
    "    \n",
    "    "
   ]
  },
  {
   "cell_type": "code",
   "execution_count": 32,
   "id": "a85cbc25",
   "metadata": {},
   "outputs": [
    {
     "data": {
      "text/plain": [
       "[50, 65, 89, 'chotipink', [54, 89, 'lk'], 45, 868, 'pinka']"
      ]
     },
     "execution_count": 32,
     "metadata": {},
     "output_type": "execute_result"
    }
   ],
   "source": [
    "l1=[45,868,\"pinka\"]\n",
    "p=l+l1\n",
    "p"
   ]
  },
  {
   "cell_type": "code",
   "execution_count": 33,
   "id": "971f30a8",
   "metadata": {},
   "outputs": [
    {
     "data": {
      "text/plain": [
       "54"
      ]
     },
     "execution_count": 33,
     "metadata": {},
     "output_type": "execute_result"
    }
   ],
   "source": [
    "p[4][0]"
   ]
  },
  {
   "cell_type": "code",
   "execution_count": 10,
   "id": "fe30f65f",
   "metadata": {},
   "outputs": [
    {
     "data": {
      "text/plain": [
       "[45, 868, 'pinka', 45, 868, 'pinka']"
      ]
     },
     "execution_count": 10,
     "metadata": {},
     "output_type": "execute_result"
    }
   ],
   "source": [
    "l1*2"
   ]
  },
  {
   "cell_type": "code",
   "execution_count": null,
   "id": "744cfc77",
   "metadata": {},
   "outputs": [],
   "source": [
    "len(l)"
   ]
  },
  {
   "cell_type": "code",
   "execution_count": 11,
   "id": "4d2ebe34",
   "metadata": {},
   "outputs": [
    {
     "data": {
      "text/plain": [
       "6"
      ]
     },
     "execution_count": 11,
     "metadata": {},
     "output_type": "execute_result"
    }
   ],
   "source": [
    "len(l)"
   ]
  },
  {
   "cell_type": "code",
   "execution_count": 12,
   "id": "0777901a",
   "metadata": {},
   "outputs": [
    {
     "data": {
      "text/plain": [
       "False"
      ]
     },
     "execution_count": 12,
     "metadata": {},
     "output_type": "execute_result"
    }
   ],
   "source": [
    "78 in l"
   ]
  },
  {
   "cell_type": "code",
   "execution_count": 17,
   "id": "4c12a556",
   "metadata": {},
   "outputs": [
    {
     "name": "stdout",
     "output_type": "stream",
     "text": [
      "10\n",
      "xapo\n"
     ]
    },
    {
     "ename": "TypeError",
     "evalue": "'>' not supported between instances of 'str' and 'int'",
     "output_type": "error",
     "traceback": [
      "\u001b[1;31m---------------------------------------------------------------------------\u001b[0m",
      "\u001b[1;31mTypeError\u001b[0m                                 Traceback (most recent call last)",
      "\u001b[1;32m<ipython-input-17-2bce421dfbe4>\u001b[0m in \u001b[0;36m<module>\u001b[1;34m\u001b[0m\n\u001b[0;32m      1\u001b[0m \u001b[0mprint\u001b[0m\u001b[1;33m(\u001b[0m\u001b[0mmax\u001b[0m\u001b[1;33m(\u001b[0m\u001b[1;33m[\u001b[0m\u001b[1;36m2\u001b[0m\u001b[1;33m,\u001b[0m\u001b[1;36m5\u001b[0m\u001b[1;33m,\u001b[0m\u001b[1;36m6\u001b[0m\u001b[1;33m,\u001b[0m\u001b[1;36m8\u001b[0m\u001b[1;33m,\u001b[0m\u001b[1;36m10\u001b[0m\u001b[1;33m]\u001b[0m\u001b[1;33m)\u001b[0m\u001b[1;33m)\u001b[0m\u001b[1;33m\u001b[0m\u001b[1;33m\u001b[0m\u001b[0m\n\u001b[0;32m      2\u001b[0m \u001b[0mprint\u001b[0m\u001b[1;33m(\u001b[0m\u001b[0mmax\u001b[0m\u001b[1;33m(\u001b[0m\u001b[1;33m[\u001b[0m\u001b[1;34m\"xapo\"\u001b[0m\u001b[1;33m,\u001b[0m\u001b[1;34m\"tech\"\u001b[0m\u001b[1;33m]\u001b[0m\u001b[1;33m)\u001b[0m\u001b[1;33m)\u001b[0m\u001b[1;33m\u001b[0m\u001b[1;33m\u001b[0m\u001b[0m\n\u001b[1;32m----> 3\u001b[1;33m \u001b[0mprint\u001b[0m\u001b[1;33m(\u001b[0m\u001b[0mmax\u001b[0m\u001b[1;33m(\u001b[0m\u001b[1;33m[\u001b[0m\u001b[1;36m52\u001b[0m\u001b[1;33m,\u001b[0m\u001b[1;36m64\u001b[0m\u001b[1;33m,\u001b[0m\u001b[1;34m\"sudh\"\u001b[0m\u001b[1;33m]\u001b[0m\u001b[1;33m)\u001b[0m\u001b[1;33m)\u001b[0m\u001b[1;33m\u001b[0m\u001b[1;33m\u001b[0m\u001b[0m\n\u001b[0m",
      "\u001b[1;31mTypeError\u001b[0m: '>' not supported between instances of 'str' and 'int'"
     ]
    }
   ],
   "source": [
    "print(max([2,5,6,8,10]))\n",
    "print(max([\"xapo\",\"tech\"]))\n",
    "print(max([52,64,\"sudh\"]))\n"
   ]
  },
  {
   "cell_type": "code",
   "execution_count": 19,
   "id": "11ac7ba2",
   "metadata": {},
   "outputs": [
    {
     "data": {
      "text/plain": [
       "'pink'"
      ]
     },
     "execution_count": 19,
     "metadata": {},
     "output_type": "execute_result"
    }
   ],
   "source": [
    "min([\"pink\",\"vin\"])"
   ]
  },
  {
   "cell_type": "code",
   "execution_count": 20,
   "id": "1c418536",
   "metadata": {},
   "outputs": [
    {
     "data": {
      "text/plain": [
       "0"
      ]
     },
     "execution_count": 20,
     "metadata": {},
     "output_type": "execute_result"
    }
   ],
   "source": [
    "min([0,2,6,8])"
   ]
  },
  {
   "cell_type": "code",
   "execution_count": 28,
   "id": "b19d7b2b",
   "metadata": {},
   "outputs": [
    {
     "data": {
      "text/plain": [
       "[50, 65, 89, 'chotipink', [54, 89, 'lk']]"
      ]
     },
     "execution_count": 28,
     "metadata": {},
     "output_type": "execute_result"
    }
   ],
   "source": [
    "l=[50,65,89]\n",
    "l.append(\"chotipink\")\n",
    "l.append([54,89,\"lk\"])\n",
    "l"
   ]
  },
  {
   "cell_type": "code",
   "execution_count": 38,
   "id": "212079e7",
   "metadata": {},
   "outputs": [
    {
     "data": {
      "text/plain": [
       "[1, 2, 3, 4, 5, [6, 7]]"
      ]
     },
     "execution_count": 38,
     "metadata": {},
     "output_type": "execute_result"
    }
   ],
   "source": [
    "l=[1,2,3,4,5]\n",
    "l.append([6,7])\n",
    "l"
   ]
  },
  {
   "cell_type": "code",
   "execution_count": 41,
   "id": "45392df3",
   "metadata": {},
   "outputs": [
    {
     "data": {
      "text/plain": [
       "[1, 2, 3, 4, 5, [6, 7], 8, 8, 8]"
      ]
     },
     "execution_count": 41,
     "metadata": {},
     "output_type": "execute_result"
    }
   ],
   "source": [
    "l.insert(6,8)\n",
    "l"
   ]
  },
  {
   "cell_type": "code",
   "execution_count": 46,
   "id": "145c7ad0",
   "metadata": {},
   "outputs": [
    {
     "data": {
      "text/plain": [
       "[1, 2, 3, 4, 5, [6, 7], 8, 8, 9, 9, 9, 9, 10, 8]"
      ]
     },
     "execution_count": 46,
     "metadata": {},
     "output_type": "execute_result"
    }
   ],
   "source": [
    "l.insert(-1,10)\n",
    "l"
   ]
  },
  {
   "cell_type": "code",
   "execution_count": 48,
   "id": "01aa266c",
   "metadata": {},
   "outputs": [
    {
     "data": {
      "text/plain": [
       "[1, 2, 3, 4, 5, 5]"
      ]
     },
     "execution_count": 48,
     "metadata": {},
     "output_type": "execute_result"
    }
   ],
   "source": [
    "p=[1,2,3,4]\n",
    "p.append(5)\n",
    "p.insert(-1,5)\n",
    "\n",
    "p"
   ]
  },
  {
   "cell_type": "code",
   "execution_count": 49,
   "id": "ed89e203",
   "metadata": {},
   "outputs": [
    {
     "data": {
      "text/plain": [
       "2"
      ]
     },
     "execution_count": 49,
     "metadata": {},
     "output_type": "execute_result"
    }
   ],
   "source": [
    "p.count(5)"
   ]
  },
  {
   "cell_type": "code",
   "execution_count": 52,
   "id": "05727709",
   "metadata": {},
   "outputs": [
    {
     "data": {
      "text/plain": [
       "[1, 2, 3, 4, 5, 5, 2, 5, 8, 2, 5, 8, 2, 5, 8]"
      ]
     },
     "execution_count": 52,
     "metadata": {},
     "output_type": "execute_result"
    }
   ],
   "source": [
    "p.extend([2,5,8])\n",
    "p"
   ]
  },
  {
   "cell_type": "code",
   "execution_count": 53,
   "id": "e21e26fd",
   "metadata": {},
   "outputs": [
    {
     "data": {
      "text/plain": [
       "[1, 2, 3, 4, 5, 5, 2, 5, 8, 2, 5, 8, 2, 5, 8, 'p', 'i', 'n', 'k']"
      ]
     },
     "execution_count": 53,
     "metadata": {},
     "output_type": "execute_result"
    }
   ],
   "source": [
    "p.extend(\"pink\")\n",
    "p"
   ]
  },
  {
   "cell_type": "code",
   "execution_count": 54,
   "id": "bda3e174",
   "metadata": {},
   "outputs": [
    {
     "ename": "TypeError",
     "evalue": "'int' object is not iterable",
     "output_type": "error",
     "traceback": [
      "\u001b[1;31m---------------------------------------------------------------------------\u001b[0m",
      "\u001b[1;31mTypeError\u001b[0m                                 Traceback (most recent call last)",
      "\u001b[1;32m<ipython-input-54-96bf2f793dd1>\u001b[0m in \u001b[0;36m<module>\u001b[1;34m\u001b[0m\n\u001b[1;32m----> 1\u001b[1;33m \u001b[0mp\u001b[0m\u001b[1;33m.\u001b[0m\u001b[0mextend\u001b[0m\u001b[1;33m(\u001b[0m\u001b[1;36m56\u001b[0m\u001b[1;33m)\u001b[0m\u001b[1;33m\u001b[0m\u001b[1;33m\u001b[0m\u001b[0m\n\u001b[0m\u001b[0;32m      2\u001b[0m \u001b[0mp\u001b[0m\u001b[1;33m\u001b[0m\u001b[1;33m\u001b[0m\u001b[0m\n",
      "\u001b[1;31mTypeError\u001b[0m: 'int' object is not iterable"
     ]
    }
   ],
   "source": [
    "p.extend(56)\n",
    "p"
   ]
  },
  {
   "cell_type": "code",
   "execution_count": 55,
   "id": "3cc2d4a0",
   "metadata": {},
   "outputs": [
    {
     "data": {
      "text/plain": [
       "[1,\n",
       " 2,\n",
       " 3,\n",
       " 4,\n",
       " 5,\n",
       " 5,\n",
       " 2,\n",
       " 5,\n",
       " 8,\n",
       " 2,\n",
       " 5,\n",
       " 8,\n",
       " 2,\n",
       " 5,\n",
       " 8,\n",
       " 'p',\n",
       " 'i',\n",
       " 'n',\n",
       " 'k',\n",
       " 25,\n",
       " 56,\n",
       " ['vin', 56, 8]]"
      ]
     },
     "execution_count": 55,
     "metadata": {},
     "output_type": "execute_result"
    }
   ],
   "source": [
    "p.extend([25,56,[\"vin\",56,8]])\n",
    "p"
   ]
  },
  {
   "cell_type": "code",
   "execution_count": 56,
   "id": "4eb05d2f",
   "metadata": {},
   "outputs": [
    {
     "data": {
      "text/plain": [
       "3"
      ]
     },
     "execution_count": 56,
     "metadata": {},
     "output_type": "execute_result"
    }
   ],
   "source": [
    "p[2]"
   ]
  },
  {
   "cell_type": "code",
   "execution_count": 58,
   "id": "fa0ac73f",
   "metadata": {},
   "outputs": [
    {
     "data": {
      "text/plain": [
       "56"
      ]
     },
     "execution_count": 58,
     "metadata": {},
     "output_type": "execute_result"
    }
   ],
   "source": [
    "p.pop()"
   ]
  },
  {
   "cell_type": "code",
   "execution_count": 59,
   "id": "b1d181d5",
   "metadata": {},
   "outputs": [
    {
     "data": {
      "text/plain": [
       "[1, 2, 3, 4, 5, 5, 2, 5, 8, 2, 5, 8, 2, 5, 8, 'p', 'i', 'n', 'k', 25]"
      ]
     },
     "execution_count": 59,
     "metadata": {},
     "output_type": "execute_result"
    }
   ],
   "source": [
    "p"
   ]
  },
  {
   "cell_type": "code",
   "execution_count": 62,
   "id": "c83d4826",
   "metadata": {},
   "outputs": [],
   "source": [
    "p.remove(5)"
   ]
  },
  {
   "cell_type": "code",
   "execution_count": 66,
   "id": "4970e644",
   "metadata": {},
   "outputs": [
    {
     "data": {
      "text/plain": [
       "[1, 2, 3, 4, 2, 8, 2, 5, 8, 2, 5, 8, 'p', 'i', 'n', 'k', 25]"
      ]
     },
     "execution_count": 66,
     "metadata": {},
     "output_type": "execute_result"
    }
   ],
   "source": [
    "p"
   ]
  },
  {
   "cell_type": "code",
   "execution_count": 67,
   "id": "72d73f94",
   "metadata": {},
   "outputs": [
    {
     "data": {
      "text/plain": [
       "[25, 'k', 'n', 'i', 'p', 8, 5, 2, 8, 5, 2, 8, 2, 4, 3, 2, 1]"
      ]
     },
     "execution_count": 67,
     "metadata": {},
     "output_type": "execute_result"
    }
   ],
   "source": [
    "p.reverse()\n",
    "p"
   ]
  },
  {
   "cell_type": "code",
   "execution_count": 72,
   "id": "b5cc5c6d",
   "metadata": {},
   "outputs": [
    {
     "data": {
      "text/plain": [
       "[2, 3, 4, 56, 85]"
      ]
     },
     "execution_count": 72,
     "metadata": {},
     "output_type": "execute_result"
    }
   ],
   "source": [
    "p=[56,85,2,3,4]\n",
    "p.sort()\n",
    "p"
   ]
  },
  {
   "cell_type": "code",
   "execution_count": 77,
   "id": "d9eee839",
   "metadata": {},
   "outputs": [
    {
     "data": {
      "text/plain": [
       "[[2, 3, 5, 'pink'], [2, 2.65, 8], [85.32, 89], [5, 8, 9, 4], [1, 2, 7]]"
      ]
     },
     "execution_count": 77,
     "metadata": {},
     "output_type": "execute_result"
    }
   ],
   "source": [
    "p=[[2,3,5,\"pink\"],[5,8,9,4],[1,2,7]]\n",
    "p.insert(1,[2,2.65,8]) \n",
    "p.insert(2,[85.32,89])\n",
    "p"
   ]
  },
  {
   "cell_type": "code",
   "execution_count": 98,
   "id": "6f6b2fc1",
   "metadata": {},
   "outputs": [
    {
     "name": "stdout",
     "output_type": "stream",
     "text": [
      "index of string b is: 3\n",
      "index of string b is: 4\n",
      "index of string b is: 5\n",
      "The string is the nested list is 'b'\n",
      "The string is the nested list is 'b'\n",
      "The string is the nested list is 'b'\n",
      "List after removal of string from nested list is/r [[2, 3, 5], [5, 8, 9, 4], [1, 2, 7]] \n",
      "\n"
     ]
    }
   ],
   "source": [
    "p=[[2,3,5,\"b\",\"b\",\"b\"],[5,8,9,4],[1,2,7]]\n",
    "for i in p:\n",
    "    if type(i)==list:\n",
    "        j=0\n",
    "        while j < len(i):\n",
    "            if type(i[j]) is str:\n",
    "                print(\"index of string {} is:\" .format(i[j]),j)\n",
    "            j+=1\n",
    "        j=0\n",
    "        while j < len(i):\n",
    "            if type(i[j]) is str:\n",
    "                print(\"The string is the nested list is '{}'\" .format(i[j]))\n",
    "                i.remove(i[j])\n",
    "                continue\n",
    "            j+=1\n",
    "print(\"List after removal of string from nested list is/r\",p,'\\n')\n",
    "    \n",
    "        \n"
   ]
  },
  {
   "cell_type": "markdown",
   "id": "79dc7f57",
   "metadata": {},
   "source": [
    "How can we take list as a input?"
   ]
  },
  {
   "cell_type": "code",
   "execution_count": 1,
   "id": "c557b96f",
   "metadata": {},
   "outputs": [
    {
     "name": "stdout",
     "output_type": "stream",
     "text": [
      "5\n",
      "8\n",
      "96\n",
      "13\n",
      "25\n",
      "[5, 8, 96, 13, 25]\n"
     ]
    }
   ],
   "source": [
    "l=[]\n",
    "for i in range(5):\n",
    "    l.append(int(input()))\n",
    "print(l)"
   ]
  },
  {
   "cell_type": "markdown",
   "id": "f1053a86",
   "metadata": {},
   "source": [
    "# Comprehension\n",
    "in which we can write multi line code into single line"
   ]
  },
  {
   "cell_type": "code",
   "execution_count": 5,
   "id": "1eb78b90",
   "metadata": {},
   "outputs": [],
   "source": [
    "l1=[]\n",
    "for i in \"sudh\":\n",
    "    l1.append(i)"
   ]
  },
  {
   "cell_type": "code",
   "execution_count": 6,
   "id": "7096f942",
   "metadata": {},
   "outputs": [
    {
     "data": {
      "text/plain": [
       "['s', 'u', 'd', 'h']"
      ]
     },
     "execution_count": 6,
     "metadata": {},
     "output_type": "execute_result"
    }
   ],
   "source": [
    "l1"
   ]
  },
  {
   "cell_type": "code",
   "execution_count": 8,
   "id": "f26e9a49",
   "metadata": {},
   "outputs": [
    {
     "data": {
      "text/plain": [
       "[['p'], ['i'], ['n'], ['k']]"
      ]
     },
     "execution_count": 8,
     "metadata": {},
     "output_type": "execute_result"
    }
   ],
   "source": [
    "[[i] for i in \"pink\"]"
   ]
  },
  {
   "cell_type": "code",
   "execution_count": 12,
   "id": "fe947561",
   "metadata": {},
   "outputs": [],
   "source": [
    "l=[]\n",
    "for i in range(10):\n",
    "    if i%2 == 0:\n",
    "        l.append(i)"
   ]
  },
  {
   "cell_type": "code",
   "execution_count": 13,
   "id": "df047e14",
   "metadata": {},
   "outputs": [
    {
     "data": {
      "text/plain": [
       "[0, 2, 4, 6, 8]"
      ]
     },
     "execution_count": 13,
     "metadata": {},
     "output_type": "execute_result"
    }
   ],
   "source": [
    "l"
   ]
  },
  {
   "cell_type": "code",
   "execution_count": 14,
   "id": "c3f427cd",
   "metadata": {},
   "outputs": [
    {
     "data": {
      "text/plain": [
       "[0, 2, 4, 6, 8]"
      ]
     },
     "execution_count": 14,
     "metadata": {},
     "output_type": "execute_result"
    }
   ],
   "source": [
    "[i for i in range(10) if i%2==0]"
   ]
  },
  {
   "cell_type": "code",
   "execution_count": 15,
   "id": "eea4685a",
   "metadata": {},
   "outputs": [
    {
     "data": {
      "text/plain": [
       "['even', 'odd', 'even', 'odd', 'even', 'odd', 'even', 'odd', 'even', 'odd']"
      ]
     },
     "execution_count": 15,
     "metadata": {},
     "output_type": "execute_result"
    }
   ],
   "source": [
    "[\"even\" if i%2==0 else \"odd\" for i in range(10) ]"
   ]
  },
  {
   "cell_type": "code",
   "execution_count": 16,
   "id": "dbd2377c",
   "metadata": {},
   "outputs": [
    {
     "data": {
      "text/plain": [
       "[[0, 1, 2], [0, 1, 2], [0, 1, 2]]"
      ]
     },
     "execution_count": 16,
     "metadata": {},
     "output_type": "execute_result"
    }
   ],
   "source": [
    "mat = []\n",
    "for i in range(3):\n",
    "    mat.append([])\n",
    "    for j in range(3):\n",
    "        mat[i].append(j)\n",
    "mat"
   ]
  },
  {
   "cell_type": "code",
   "execution_count": 18,
   "id": "a3d516ba",
   "metadata": {},
   "outputs": [
    {
     "data": {
      "text/plain": [
       "[[0, 1, 2], [0, 1, 2], [0, 1, 2]]"
      ]
     },
     "execution_count": 18,
     "metadata": {},
     "output_type": "execute_result"
    }
   ],
   "source": [
    "[[j for j in range(3)]for i in range(3) ]"
   ]
  },
  {
   "cell_type": "code",
   "execution_count": 21,
   "id": "ff2df0f5",
   "metadata": {},
   "outputs": [
    {
     "data": {
      "text/plain": [
       "[0, 6]"
      ]
     },
     "execution_count": 21,
     "metadata": {},
     "output_type": "execute_result"
    }
   ],
   "source": [
    "[i for i in range(8) if i%2 ==0 if i%3==0]"
   ]
  },
  {
   "cell_type": "code",
   "execution_count": 24,
   "id": "e438f74c",
   "metadata": {},
   "outputs": [
    {
     "data": {
      "text/plain": [
       "[0, 6]"
      ]
     },
     "execution_count": 24,
     "metadata": {},
     "output_type": "execute_result"
    }
   ],
   "source": [
    "l=[]\n",
    "for i in range(8):\n",
    "    if i%2 ==0:\n",
    "        if i%3 == 0:\n",
    "            l.append(i)\n",
    "l"
   ]
  },
  {
   "cell_type": "code",
   "execution_count": 26,
   "id": "39a983e3",
   "metadata": {},
   "outputs": [
    {
     "data": {
      "text/plain": [
       "[0, 1, 2, 3, 4, 5, 6, 7, 8, 9]"
      ]
     },
     "execution_count": 26,
     "metadata": {},
     "output_type": "execute_result"
    }
   ],
   "source": [
    "l=[]\n",
    "for i in range(10):\n",
    "    l.append(i)\n",
    "l"
   ]
  },
  {
   "cell_type": "code",
   "execution_count": 27,
   "id": "7cae31b8",
   "metadata": {},
   "outputs": [
    {
     "data": {
      "text/plain": [
       "['test', 'yes', 'no', 'test', 'test', 'test', 'test', 'test', 'test', 'test']"
      ]
     },
     "execution_count": 27,
     "metadata": {},
     "output_type": "execute_result"
    }
   ],
   "source": [
    "[\"yes\" if i==1 else \"no\" if i==2 else \"test\" for i in l]"
   ]
  },
  {
   "cell_type": "markdown",
   "id": "07929f26",
   "metadata": {},
   "source": [
    "# Tuple"
   ]
  },
  {
   "cell_type": "code",
   "execution_count": 28,
   "id": "84dc31e0",
   "metadata": {},
   "outputs": [
    {
     "data": {
      "text/plain": [
       "tuple"
      ]
     },
     "execution_count": 28,
     "metadata": {},
     "output_type": "execute_result"
    }
   ],
   "source": [
    "t=()\n",
    "type(t)"
   ]
  },
  {
   "cell_type": "code",
   "execution_count": 2,
   "id": "0414c56a",
   "metadata": {},
   "outputs": [],
   "source": [
    "t1=(5,56,8,75,89)\n",
    "t2=(78,85,2)"
   ]
  },
  {
   "cell_type": "code",
   "execution_count": 3,
   "id": "8eb5c1f6",
   "metadata": {},
   "outputs": [
    {
     "name": "stdout",
     "output_type": "stream",
     "text": [
      "wrong\n"
     ]
    }
   ],
   "source": [
    "if len(t1)==len(t2):\n",
    "    print(\"it's same\")\n",
    "else:\n",
    "    print(\"wrong\")"
   ]
  },
  {
   "cell_type": "code",
   "execution_count": 4,
   "id": "733d8997",
   "metadata": {},
   "outputs": [],
   "source": [
    "t=(\"priyanka\",\"bisht\",\"vivek\",\"balodi\")"
   ]
  },
  {
   "cell_type": "code",
   "execution_count": 6,
   "id": "97f5c93d",
   "metadata": {},
   "outputs": [
    {
     "name": "stdout",
     "output_type": "stream",
     "text": [
      "write your name\n",
      ":vivek\n",
      "Yes your name is available\n"
     ]
    }
   ],
   "source": [
    "i=input(\"write your name\\n:\")\n",
    "if i in t:\n",
    "    print(\"Yes your name is available\")\n",
    "else:\n",
    "    print(\"No your name is not available\")\n"
   ]
  },
  {
   "cell_type": "code",
   "execution_count": 7,
   "id": "51f3ce47",
   "metadata": {},
   "outputs": [
    {
     "data": {
      "text/plain": [
       "('priyanka', 'bisht', 'vivek', 'balodi')"
      ]
     },
     "execution_count": 7,
     "metadata": {},
     "output_type": "execute_result"
    }
   ],
   "source": [
    "t"
   ]
  },
  {
   "cell_type": "code",
   "execution_count": 8,
   "id": "6c0902b5",
   "metadata": {},
   "outputs": [],
   "source": [
    "del(t)"
   ]
  },
  {
   "cell_type": "code",
   "execution_count": 9,
   "id": "09fbab06",
   "metadata": {},
   "outputs": [
    {
     "ename": "NameError",
     "evalue": "name 't' is not defined",
     "output_type": "error",
     "traceback": [
      "\u001b[1;31m---------------------------------------------------------------------------\u001b[0m",
      "\u001b[1;31mNameError\u001b[0m                                 Traceback (most recent call last)",
      "\u001b[1;32m<ipython-input-9-34fc7a11cb38>\u001b[0m in \u001b[0;36m<module>\u001b[1;34m\u001b[0m\n\u001b[1;32m----> 1\u001b[1;33m \u001b[0mt\u001b[0m\u001b[1;33m\u001b[0m\u001b[1;33m\u001b[0m\u001b[0m\n\u001b[0m",
      "\u001b[1;31mNameError\u001b[0m: name 't' is not defined"
     ]
    }
   ],
   "source": [
    "t"
   ]
  },
  {
   "cell_type": "code",
   "execution_count": null,
   "id": "be1c98df",
   "metadata": {},
   "outputs": [],
   "source": [
    "l = [21,56,922,78]\n",
    "l."
   ]
  },
  {
   "cell_type": "code",
   "execution_count": 10,
   "id": "43ec3f1e",
   "metadata": {},
   "outputs": [
    {
     "data": {
      "text/plain": [
       "1"
      ]
     },
     "execution_count": 10,
     "metadata": {},
     "output_type": "execute_result"
    }
   ],
   "source": [
    "t=(45,6,8,9)\n",
    "t.count(6)"
   ]
  },
  {
   "cell_type": "markdown",
   "id": "05bdfe5b",
   "metadata": {},
   "source": [
    "# SET"
   ]
  },
  {
   "cell_type": "code",
   "execution_count": 12,
   "id": "1076555f",
   "metadata": {},
   "outputs": [],
   "source": [
    "l=[51,25,25,25,12,12,1,5,125,15,15,\"priyanka\",\"priyanka\"]"
   ]
  },
  {
   "cell_type": "code",
   "execution_count": 13,
   "id": "0c7cbf47",
   "metadata": {},
   "outputs": [
    {
     "data": {
      "text/plain": [
       "{1, 12, 125, 15, 25, 5, 51, 'priyanka'}"
      ]
     },
     "execution_count": 13,
     "metadata": {},
     "output_type": "execute_result"
    }
   ],
   "source": [
    "set(l)"
   ]
  },
  {
   "cell_type": "code",
   "execution_count": 14,
   "id": "207bc46b",
   "metadata": {},
   "outputs": [
    {
     "data": {
      "text/plain": [
       "True"
      ]
     },
     "execution_count": 14,
     "metadata": {},
     "output_type": "execute_result"
    }
   ],
   "source": [
    "25 in set(l)"
   ]
  },
  {
   "cell_type": "code",
   "execution_count": 4,
   "id": "88ca0615",
   "metadata": {},
   "outputs": [
    {
     "name": "stdout",
     "output_type": "stream",
     "text": [
      "enter the para:hey you what are you doing\n"
     ]
    }
   ],
   "source": [
    "data=input(\"enter the para:\")\n",
    "l=data.split(\" \")\n",
    "l1=set(l)\n",
    "l2=dict.fromkeys(l1,\"priyanka\")\n",
    "l3=tuple(l2.keys())\n",
    "l4=list(l2.values())"
   ]
  },
  {
   "cell_type": "code",
   "execution_count": 6,
   "id": "e190a229",
   "metadata": {},
   "outputs": [
    {
     "name": "stdout",
     "output_type": "stream",
     "text": [
      "h\n",
      "e\n",
      "y\n"
     ]
    }
   ],
   "source": [
    "a=\"hey\"\n",
    "for i in a:\n",
    "    print(i)"
   ]
  },
  {
   "cell_type": "code",
   "execution_count": 5,
   "id": "643ca3ce",
   "metadata": {},
   "outputs": [
    {
     "data": {
      "text/plain": [
       "['hey', 'you', 'what', 'are', 'you', 'doing']"
      ]
     },
     "execution_count": 5,
     "metadata": {},
     "output_type": "execute_result"
    }
   ],
   "source": [
    "l"
   ]
  },
  {
   "cell_type": "code",
   "execution_count": null,
   "id": "6b6e9e2b",
   "metadata": {},
   "outputs": [],
   "source": [
    "my = input()"
   ]
  },
  {
   "cell_type": "code",
   "execution_count": 13,
   "id": "79cdb7fc",
   "metadata": {},
   "outputs": [],
   "source": [
    "d = {\"Company\":\"ineuron\",\"Course\":\"full stack data science\",\"batch\":2022}"
   ]
  },
  {
   "cell_type": "code",
   "execution_count": 14,
   "id": "5678cbb5",
   "metadata": {},
   "outputs": [
    {
     "name": "stdout",
     "output_type": "stream",
     "text": [
      "key : Company ; value : ineuron\n",
      "key : Course ; value : full stack data science\n",
      "key : batch ; value : 2022\n"
     ]
    }
   ],
   "source": [
    "for i in d:\n",
    "    print(\"key :\" , i , \";\" ,\"value :\", d[i])"
   ]
  },
  {
   "cell_type": "code",
   "execution_count": 18,
   "id": "3074ce90",
   "metadata": {},
   "outputs": [
    {
     "name": "stdout",
     "output_type": "stream",
     "text": [
      "dict_values(['ineuron', 'full stack data science', 2022])\n",
      "dict_values(['ineuron', 'full stack data science', 2022])\n",
      "dict_values(['ineuron', 'full stack data science', 2022])\n"
     ]
    }
   ],
   "source": [
    "for i in d:\n",
    "    print (d.values())"
   ]
  },
  {
   "cell_type": "code",
   "execution_count": 22,
   "id": "a17f9a6c",
   "metadata": {},
   "outputs": [
    {
     "name": "stdout",
     "output_type": "stream",
     "text": [
      "it is fine\n"
     ]
    }
   ],
   "source": [
    "for i in d:\n",
    "    if i ==\"batch\":\n",
    "        if d[i]>2022:\n",
    "            print(\"it is fine\")\n",
    "        else :\n",
    "            d[i]=2023\n",
    "    "
   ]
  },
  {
   "cell_type": "code",
   "execution_count": 25,
   "id": "454300ee",
   "metadata": {},
   "outputs": [],
   "source": [
    "my = {}\n",
    "for i in range(5):\n",
    "    my[i] = i*i\n",
    "    "
   ]
  },
  {
   "cell_type": "code",
   "execution_count": 26,
   "id": "ab67e41d",
   "metadata": {},
   "outputs": [
    {
     "data": {
      "text/plain": [
       "{0: 0, 1: 1, 2: 4, 3: 9, 4: 16}"
      ]
     },
     "execution_count": 26,
     "metadata": {},
     "output_type": "execute_result"
    }
   ],
   "source": [
    "my"
   ]
  },
  {
   "cell_type": "code",
   "execution_count": 27,
   "id": "54f68497",
   "metadata": {},
   "outputs": [
    {
     "data": {
      "text/plain": [
       "{0: 0, 1: 1, 2: 4, 3: 9, 4: 16}"
      ]
     },
     "execution_count": 27,
     "metadata": {},
     "output_type": "execute_result"
    }
   ],
   "source": [
    "{i:i*i for i in range(5)}"
   ]
  },
  {
   "cell_type": "code",
   "execution_count": 28,
   "id": "dd165fad",
   "metadata": {},
   "outputs": [
    {
     "ename": "SyntaxError",
     "evalue": "invalid syntax (<ipython-input-28-c1bd05e096c4>, line 3)",
     "output_type": "error",
     "traceback": [
      "\u001b[1;36m  File \u001b[1;32m\"<ipython-input-28-c1bd05e096c4>\"\u001b[1;36m, line \u001b[1;32m3\u001b[0m\n\u001b[1;33m    if type(i) == list\u001b[0m\n\u001b[1;37m                      ^\u001b[0m\n\u001b[1;31mSyntaxError\u001b[0m\u001b[1;31m:\u001b[0m invalid syntax\n"
     ]
    }
   ],
   "source": [
    "def test(*args,**kwargs):\n",
    "    for i in args:\n",
    "        if type(i) == list\n",
    "    return i\n",
    "    else:\n",
    "        if type(i[1]) == list\n",
    "    return i[1]"
   ]
  },
  {
   "cell_type": "code",
   "execution_count": 29,
   "id": "37e836bc",
   "metadata": {},
   "outputs": [
    {
     "data": {
      "text/plain": [
       "[56, 85, 'pink']"
      ]
     },
     "execution_count": 29,
     "metadata": {},
     "output_type": "execute_result"
    }
   ],
   "source": [
    "test([56,85,\"pink\"],a=45,b=55)"
   ]
  },
  {
   "cell_type": "code",
   "execution_count": 45,
   "id": "930588f0",
   "metadata": {},
   "outputs": [],
   "source": []
  },
  {
   "cell_type": "code",
   "execution_count": 54,
   "id": "bef21af1",
   "metadata": {},
   "outputs": [],
   "source": [
    "def fun2(*args,**kwargs):\n",
    "    l=[i for i in args if type(i) == list ]\n",
    "    d=[i[1] for i in kwargs.items() if type(i[1]) == list ]\n",
    "    return l,d"
   ]
  },
  {
   "cell_type": "code",
   "execution_count": 55,
   "id": "3feefe43",
   "metadata": {},
   "outputs": [
    {
     "data": {
      "text/plain": [
       "([[4, 5, 6, 7, 8], [5, 6, 7, 8, 9, 0]], [[4, 5, 6, 7]])"
      ]
     },
     "execution_count": 55,
     "metadata": {},
     "output_type": "execute_result"
    }
   ],
   "source": [
    "fun2([4,5,6,7,8] , [5,6,7,8,9,0] , 5,5,6,7, a = 5 , b = \"fsdfds\" , m = [4,5,6,7])"
   ]
  },
  {
   "cell_type": "code",
   "execution_count": 58,
   "id": "75d959a3",
   "metadata": {},
   "outputs": [],
   "source": [
    "def test1(*args,**kwargs):\n",
    "    l=[i for i in args if type(i) == list ]\n",
    "    d=[i[1] for i in kwargs.items() if type(i[1]) == list ]\n",
    "    return l,d"
   ]
  },
  {
   "cell_type": "code",
   "execution_count": 59,
   "id": "f2a8ca97",
   "metadata": {},
   "outputs": [
    {
     "data": {
      "text/plain": [
       "([[4, 5, 6, 7, 8], [5, 6, 7, 8, 9, 0]], [])"
      ]
     },
     "execution_count": 59,
     "metadata": {},
     "output_type": "execute_result"
    }
   ],
   "source": [
    "test1([4,5,6,7,8] , [5,6,7,8,9,0] , 5,5,6,7, a = 5 , b = \"fsdfds\")"
   ]
  },
  {
   "cell_type": "code",
   "execution_count": null,
   "id": "a98f4af3",
   "metadata": {},
   "outputs": [],
   "source": []
  }
 ],
 "metadata": {
  "kernelspec": {
   "display_name": "Python 3",
   "language": "python",
   "name": "python3"
  },
  "language_info": {
   "codemirror_mode": {
    "name": "ipython",
    "version": 3
   },
   "file_extension": ".py",
   "mimetype": "text/x-python",
   "name": "python",
   "nbconvert_exporter": "python",
   "pygments_lexer": "ipython3",
   "version": "3.8.8"
  }
 },
 "nbformat": 4,
 "nbformat_minor": 5
}
